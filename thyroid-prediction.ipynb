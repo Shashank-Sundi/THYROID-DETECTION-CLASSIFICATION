{
 "cells": [
  {
   "cell_type": "code",
   "execution_count": 638,
   "metadata": {},
   "outputs": [],
   "source": [
    "import pandas as pd \n",
    "import numpy as np\n",
    "import seaborn as sns\n",
    "import matplotlib.pyplot as plt\n"
   ]
  },
  {
   "cell_type": "code",
   "execution_count": 639,
   "metadata": {},
   "outputs": [
    {
     "data": {
      "text/html": [
       "<div>\n",
       "<style scoped>\n",
       "    .dataframe tbody tr th:only-of-type {\n",
       "        vertical-align: middle;\n",
       "    }\n",
       "\n",
       "    .dataframe tbody tr th {\n",
       "        vertical-align: top;\n",
       "    }\n",
       "\n",
       "    .dataframe thead th {\n",
       "        text-align: right;\n",
       "    }\n",
       "</style>\n",
       "<table border=\"1\" class=\"dataframe\">\n",
       "  <thead>\n",
       "    <tr style=\"text-align: right;\">\n",
       "      <th></th>\n",
       "      <th>age</th>\n",
       "      <th>sex</th>\n",
       "      <th>on_thyroxine</th>\n",
       "      <th>query_on_thyroxine</th>\n",
       "      <th>on_antithyroid_medication</th>\n",
       "      <th>sick</th>\n",
       "      <th>pregnant</th>\n",
       "      <th>thyroid_surgery</th>\n",
       "      <th>I131_treatment</th>\n",
       "      <th>query_hypothyroid</th>\n",
       "      <th>query_hyperthyroid</th>\n",
       "      <th>lithium</th>\n",
       "      <th>goitre</th>\n",
       "      <th>tumor</th>\n",
       "      <th>hypopituitary</th>\n",
       "      <th>psych</th>\n",
       "      <th>TSH_measured</th>\n",
       "      <th>TSH</th>\n",
       "      <th>T3_measured</th>\n",
       "      <th>T3</th>\n",
       "      <th>TT4_measured</th>\n",
       "      <th>TT4</th>\n",
       "      <th>T4U_measured</th>\n",
       "      <th>T4U</th>\n",
       "      <th>FTI_measured</th>\n",
       "      <th>FTI</th>\n",
       "      <th>TBG_measured</th>\n",
       "      <th>TBG</th>\n",
       "      <th>referral_source</th>\n",
       "      <th>Class</th>\n",
       "    </tr>\n",
       "  </thead>\n",
       "  <tbody>\n",
       "    <tr>\n",
       "      <th>0</th>\n",
       "      <td>41</td>\n",
       "      <td>F</td>\n",
       "      <td>f</td>\n",
       "      <td>f</td>\n",
       "      <td>f</td>\n",
       "      <td>f</td>\n",
       "      <td>f</td>\n",
       "      <td>f</td>\n",
       "      <td>f</td>\n",
       "      <td>f</td>\n",
       "      <td>f</td>\n",
       "      <td>f</td>\n",
       "      <td>f</td>\n",
       "      <td>f</td>\n",
       "      <td>f</td>\n",
       "      <td>f</td>\n",
       "      <td>t</td>\n",
       "      <td>1.3</td>\n",
       "      <td>t</td>\n",
       "      <td>2.5</td>\n",
       "      <td>t</td>\n",
       "      <td>125</td>\n",
       "      <td>t</td>\n",
       "      <td>1.14</td>\n",
       "      <td>t</td>\n",
       "      <td>109</td>\n",
       "      <td>f</td>\n",
       "      <td>?</td>\n",
       "      <td>SVHC</td>\n",
       "      <td>negative</td>\n",
       "    </tr>\n",
       "    <tr>\n",
       "      <th>1</th>\n",
       "      <td>23</td>\n",
       "      <td>F</td>\n",
       "      <td>f</td>\n",
       "      <td>f</td>\n",
       "      <td>f</td>\n",
       "      <td>f</td>\n",
       "      <td>f</td>\n",
       "      <td>f</td>\n",
       "      <td>f</td>\n",
       "      <td>f</td>\n",
       "      <td>f</td>\n",
       "      <td>f</td>\n",
       "      <td>f</td>\n",
       "      <td>f</td>\n",
       "      <td>f</td>\n",
       "      <td>f</td>\n",
       "      <td>t</td>\n",
       "      <td>4.1</td>\n",
       "      <td>t</td>\n",
       "      <td>2</td>\n",
       "      <td>t</td>\n",
       "      <td>102</td>\n",
       "      <td>f</td>\n",
       "      <td>?</td>\n",
       "      <td>f</td>\n",
       "      <td>?</td>\n",
       "      <td>f</td>\n",
       "      <td>?</td>\n",
       "      <td>other</td>\n",
       "      <td>negative</td>\n",
       "    </tr>\n",
       "    <tr>\n",
       "      <th>2</th>\n",
       "      <td>46</td>\n",
       "      <td>M</td>\n",
       "      <td>f</td>\n",
       "      <td>f</td>\n",
       "      <td>f</td>\n",
       "      <td>f</td>\n",
       "      <td>f</td>\n",
       "      <td>f</td>\n",
       "      <td>f</td>\n",
       "      <td>f</td>\n",
       "      <td>f</td>\n",
       "      <td>f</td>\n",
       "      <td>f</td>\n",
       "      <td>f</td>\n",
       "      <td>f</td>\n",
       "      <td>f</td>\n",
       "      <td>t</td>\n",
       "      <td>0.98</td>\n",
       "      <td>f</td>\n",
       "      <td>?</td>\n",
       "      <td>t</td>\n",
       "      <td>109</td>\n",
       "      <td>t</td>\n",
       "      <td>0.91</td>\n",
       "      <td>t</td>\n",
       "      <td>120</td>\n",
       "      <td>f</td>\n",
       "      <td>?</td>\n",
       "      <td>other</td>\n",
       "      <td>negative</td>\n",
       "    </tr>\n",
       "    <tr>\n",
       "      <th>3</th>\n",
       "      <td>70</td>\n",
       "      <td>F</td>\n",
       "      <td>t</td>\n",
       "      <td>f</td>\n",
       "      <td>f</td>\n",
       "      <td>f</td>\n",
       "      <td>f</td>\n",
       "      <td>f</td>\n",
       "      <td>f</td>\n",
       "      <td>f</td>\n",
       "      <td>f</td>\n",
       "      <td>f</td>\n",
       "      <td>f</td>\n",
       "      <td>f</td>\n",
       "      <td>f</td>\n",
       "      <td>f</td>\n",
       "      <td>t</td>\n",
       "      <td>0.16</td>\n",
       "      <td>t</td>\n",
       "      <td>1.9</td>\n",
       "      <td>t</td>\n",
       "      <td>175</td>\n",
       "      <td>f</td>\n",
       "      <td>?</td>\n",
       "      <td>f</td>\n",
       "      <td>?</td>\n",
       "      <td>f</td>\n",
       "      <td>?</td>\n",
       "      <td>other</td>\n",
       "      <td>negative</td>\n",
       "    </tr>\n",
       "    <tr>\n",
       "      <th>4</th>\n",
       "      <td>70</td>\n",
       "      <td>F</td>\n",
       "      <td>f</td>\n",
       "      <td>f</td>\n",
       "      <td>f</td>\n",
       "      <td>f</td>\n",
       "      <td>f</td>\n",
       "      <td>f</td>\n",
       "      <td>f</td>\n",
       "      <td>f</td>\n",
       "      <td>f</td>\n",
       "      <td>f</td>\n",
       "      <td>f</td>\n",
       "      <td>f</td>\n",
       "      <td>f</td>\n",
       "      <td>f</td>\n",
       "      <td>t</td>\n",
       "      <td>0.72</td>\n",
       "      <td>t</td>\n",
       "      <td>1.2</td>\n",
       "      <td>t</td>\n",
       "      <td>61</td>\n",
       "      <td>t</td>\n",
       "      <td>0.87</td>\n",
       "      <td>t</td>\n",
       "      <td>70</td>\n",
       "      <td>f</td>\n",
       "      <td>?</td>\n",
       "      <td>SVI</td>\n",
       "      <td>negative</td>\n",
       "    </tr>\n",
       "  </tbody>\n",
       "</table>\n",
       "</div>"
      ],
      "text/plain": [
       "  age sex on_thyroxine query_on_thyroxine on_antithyroid_medication sick  \\\n",
       "0  41   F            f                  f                         f    f   \n",
       "1  23   F            f                  f                         f    f   \n",
       "2  46   M            f                  f                         f    f   \n",
       "3  70   F            t                  f                         f    f   \n",
       "4  70   F            f                  f                         f    f   \n",
       "\n",
       "  pregnant thyroid_surgery I131_treatment query_hypothyroid  \\\n",
       "0        f               f              f                 f   \n",
       "1        f               f              f                 f   \n",
       "2        f               f              f                 f   \n",
       "3        f               f              f                 f   \n",
       "4        f               f              f                 f   \n",
       "\n",
       "  query_hyperthyroid lithium goitre tumor hypopituitary psych TSH_measured  \\\n",
       "0                  f       f      f     f             f     f            t   \n",
       "1                  f       f      f     f             f     f            t   \n",
       "2                  f       f      f     f             f     f            t   \n",
       "3                  f       f      f     f             f     f            t   \n",
       "4                  f       f      f     f             f     f            t   \n",
       "\n",
       "    TSH T3_measured   T3 TT4_measured  TT4 T4U_measured   T4U FTI_measured  \\\n",
       "0   1.3           t  2.5            t  125            t  1.14            t   \n",
       "1   4.1           t    2            t  102            f     ?            f   \n",
       "2  0.98           f    ?            t  109            t  0.91            t   \n",
       "3  0.16           t  1.9            t  175            f     ?            f   \n",
       "4  0.72           t  1.2            t   61            t  0.87            t   \n",
       "\n",
       "   FTI TBG_measured TBG referral_source     Class  \n",
       "0  109            f   ?            SVHC  negative  \n",
       "1    ?            f   ?           other  negative  \n",
       "2  120            f   ?           other  negative  \n",
       "3    ?            f   ?           other  negative  \n",
       "4   70            f   ?             SVI  negative  "
      ]
     },
     "execution_count": 639,
     "metadata": {},
     "output_type": "execute_result"
    }
   ],
   "source": [
    "# Loading Data\n",
    "\n",
    "data=pd.read_csv(r\"C:\\Users\\Shashank Sundi\\Desktop\\I neuron\\assignments\\THYROID PREDICTION\\hypothyroid.csv\")\n",
    "pd.options.display.max_columns = None\n",
    "data.head()"
   ]
  },
  {
   "cell_type": "code",
   "execution_count": 640,
   "metadata": {},
   "outputs": [
    {
     "data": {
      "text/plain": [
       "Index(['age', 'sex', 'on_thyroxine', 'query_on_thyroxine',\n",
       "       'on_antithyroid_medication', 'sick', 'pregnant', 'thyroid_surgery',\n",
       "       'I131_treatment', 'query_hypothyroid', 'query_hyperthyroid', 'lithium',\n",
       "       'goitre', 'tumor', 'hypopituitary', 'psych', 'TSH_measured', 'TSH',\n",
       "       'T3_measured', 'T3', 'TT4_measured', 'TT4', 'T4U_measured', 'T4U',\n",
       "       'FTI_measured', 'FTI', 'TBG_measured', 'TBG', 'referral_source',\n",
       "       'Class'],\n",
       "      dtype='object')"
      ]
     },
     "execution_count": 640,
     "metadata": {},
     "output_type": "execute_result"
    }
   ],
   "source": [
    "data.columns"
   ]
  },
  {
   "cell_type": "markdown",
   "metadata": {},
   "source": [
    "# Feature Column Description\n",
    "\n",
    "age - Age of the person\n",
    "\n",
    "sex - Male or Female\n",
    "\n",
    "on_thyroxine - true or false\n",
    "\n",
    "on_antithyroid_medication - true or false\n",
    "\n",
    "sick - true or false\n",
    "\n",
    "pregnant - true or false\n",
    "\n",
    "thyroid_surgery - true or false\n",
    "\n",
    "I131_treatment - true or false\n",
    "\n",
    "query_hypothyroid - true or false\n",
    "\n",
    "query_hyperthyroid -true or false\n",
    "\n",
    "lithium - true or false\n",
    "\n",
    "goitre - true or false\n",
    "\n",
    "tumor - true or false\n",
    "\n",
    "hypopituitary- true or false\n",
    "\n",
    "psych - true or false\n",
    "\n",
    "TSH_measured - true or false\n",
    "\n",
    "TSH - thyroid stimulating hormone floating value\n",
    "\n",
    "T3_measured - true or false\n",
    "\n",
    "T3 - triiodothyronine value\n",
    "\n",
    "TT4_measured- true or false\n",
    "\n",
    "TT4 - Thyroxine value\n",
    "\n",
    "T4U_measured- true or false\n",
    "\n",
    "T4U - numerical value\n",
    "\n",
    "FTI_measured- true or false\n",
    "\n",
    "FTI -Free Thyroxine Index\n",
    "\n",
    "TBG_measured- true or false\n",
    "\n",
    "TBG -Thyroid-Binding Globulin  value\n",
    "\n",
    "referral_source - different sources of referals\n",
    "\n",
    "Class - different types of thyroid"
   ]
  },
  {
   "cell_type": "code",
   "execution_count": 641,
   "metadata": {},
   "outputs": [
    {
     "data": {
      "text/plain": [
       "(3772, 30)"
      ]
     },
     "execution_count": 641,
     "metadata": {},
     "output_type": "execute_result"
    }
   ],
   "source": [
    "data.shape"
   ]
  },
  {
   "cell_type": "code",
   "execution_count": 642,
   "metadata": {},
   "outputs": [
    {
     "data": {
      "text/plain": [
       "age                          object\n",
       "sex                          object\n",
       "on_thyroxine                 object\n",
       "query_on_thyroxine           object\n",
       "on_antithyroid_medication    object\n",
       "                              ...  \n",
       "FTI                          object\n",
       "TBG_measured                 object\n",
       "TBG                          object\n",
       "referral_source              object\n",
       "Class                        object\n",
       "Length: 30, dtype: object"
      ]
     },
     "execution_count": 642,
     "metadata": {},
     "output_type": "execute_result"
    }
   ],
   "source": [
    "# validating data types\n",
    "# although all columns are marked as object type , it is observable that \n",
    "# there are other data types as well\n",
    "data.dtypes"
   ]
  },
  {
   "cell_type": "code",
   "execution_count": 643,
   "metadata": {},
   "outputs": [
    {
     "data": {
      "text/plain": [
       "age                          0\n",
       "sex                          0\n",
       "on_thyroxine                 0\n",
       "query_on_thyroxine           0\n",
       "on_antithyroid_medication    0\n",
       "                            ..\n",
       "FTI                          0\n",
       "TBG_measured                 0\n",
       "TBG                          0\n",
       "referral_source              0\n",
       "Class                        0\n",
       "Length: 30, dtype: int64"
      ]
     },
     "execution_count": 643,
     "metadata": {},
     "output_type": "execute_result"
    }
   ],
   "source": [
    "#check for Null Values\n",
    "data.isnull().sum()"
   ]
  },
  {
   "cell_type": "code",
   "execution_count": 644,
   "metadata": {},
   "outputs": [
    {
     "name": "stdout",
     "output_type": "stream",
     "text": [
      "1 \t age\n",
      "150 \t sex\n",
      "369 \t TSH\n",
      "769 \t T3\n",
      "231 \t TT4\n",
      "387 \t T4U\n",
      "385 \t FTI\n",
      "3772 \t TBG\n"
     ]
    },
    {
     "data": {
      "text/plain": [
       "['age', 'sex', 'TSH', 'T3', 'TT4', 'T4U', 'FTI', 'TBG']"
      ]
     },
     "execution_count": 644,
     "metadata": {},
     "output_type": "execute_result"
    }
   ],
   "source": [
    "#we can clearly observe that data contains invalid data values like ?\n",
    "#hence we don't observe any nul values , since the nan values have been observed by \"?\"\n",
    "\n",
    "#checking count of invalid data type ? , and replacing it with nan\n",
    "pd.options.display.max_rows=None\n",
    "bad_col=[]\n",
    "for i in data.columns:\n",
    "        a=data[i][data[i]=='?'].count()\n",
    "        if a!=0:\n",
    "                bad_col.append(i)\n",
    "                print(a,\"\\t\",i)\n",
    "bad_col"
   ]
  },
  {
   "cell_type": "code",
   "execution_count": 645,
   "metadata": {},
   "outputs": [],
   "source": [
    "# replacing all ? with nan\n",
    "for i in bad_col:\n",
    "    inval=data[i][data[i] =='?'].index\n",
    "    data[i].loc[inval]=np.nan"
   ]
  },
  {
   "cell_type": "code",
   "execution_count": 646,
   "metadata": {},
   "outputs": [
    {
     "data": {
      "text/plain": [
       "age                             1\n",
       "sex                           150\n",
       "on_thyroxine                    0\n",
       "query_on_thyroxine              0\n",
       "on_antithyroid_medication       0\n",
       "sick                            0\n",
       "pregnant                        0\n",
       "thyroid_surgery                 0\n",
       "I131_treatment                  0\n",
       "query_hypothyroid               0\n",
       "query_hyperthyroid              0\n",
       "lithium                         0\n",
       "goitre                          0\n",
       "tumor                           0\n",
       "hypopituitary                   0\n",
       "psych                           0\n",
       "TSH_measured                    0\n",
       "TSH                           369\n",
       "T3_measured                     0\n",
       "T3                            769\n",
       "TT4_measured                    0\n",
       "TT4                           231\n",
       "T4U_measured                    0\n",
       "T4U                           387\n",
       "FTI_measured                    0\n",
       "FTI                           385\n",
       "TBG_measured                    0\n",
       "TBG                          3772\n",
       "referral_source                 0\n",
       "Class                           0\n",
       "dtype: int64"
      ]
     },
     "execution_count": 646,
     "metadata": {},
     "output_type": "execute_result"
    }
   ],
   "source": [
    "data.isnull().sum()"
   ]
  },
  {
   "cell_type": "code",
   "execution_count": 647,
   "metadata": {},
   "outputs": [],
   "source": [
    "#from above observations , we see that 'TBG' column is completely \n",
    "# full of invalid ? values , hence we remove that column\n",
    "\n",
    "pd.options.display.max_rows=20\n",
    "data.drop(['TBG'],axis=1,inplace=True)"
   ]
  },
  {
   "cell_type": "code",
   "execution_count": 648,
   "metadata": {},
   "outputs": [
    {
     "data": {
      "text/html": [
       "<div>\n",
       "<style scoped>\n",
       "    .dataframe tbody tr th:only-of-type {\n",
       "        vertical-align: middle;\n",
       "    }\n",
       "\n",
       "    .dataframe tbody tr th {\n",
       "        vertical-align: top;\n",
       "    }\n",
       "\n",
       "    .dataframe thead th {\n",
       "        text-align: right;\n",
       "    }\n",
       "</style>\n",
       "<table border=\"1\" class=\"dataframe\">\n",
       "  <thead>\n",
       "    <tr style=\"text-align: right;\">\n",
       "      <th></th>\n",
       "      <th>age</th>\n",
       "      <th>sex</th>\n",
       "      <th>on_thyroxine</th>\n",
       "      <th>query_on_thyroxine</th>\n",
       "      <th>on_antithyroid_medication</th>\n",
       "      <th>sick</th>\n",
       "      <th>pregnant</th>\n",
       "      <th>thyroid_surgery</th>\n",
       "      <th>I131_treatment</th>\n",
       "      <th>query_hypothyroid</th>\n",
       "      <th>query_hyperthyroid</th>\n",
       "      <th>lithium</th>\n",
       "      <th>goitre</th>\n",
       "      <th>tumor</th>\n",
       "      <th>hypopituitary</th>\n",
       "      <th>psych</th>\n",
       "      <th>TSH_measured</th>\n",
       "      <th>TSH</th>\n",
       "      <th>T3_measured</th>\n",
       "      <th>T3</th>\n",
       "      <th>TT4_measured</th>\n",
       "      <th>TT4</th>\n",
       "      <th>T4U_measured</th>\n",
       "      <th>T4U</th>\n",
       "      <th>FTI_measured</th>\n",
       "      <th>FTI</th>\n",
       "      <th>TBG_measured</th>\n",
       "      <th>referral_source</th>\n",
       "      <th>Class</th>\n",
       "    </tr>\n",
       "  </thead>\n",
       "  <tbody>\n",
       "    <tr>\n",
       "      <th>0</th>\n",
       "      <td>41</td>\n",
       "      <td>F</td>\n",
       "      <td>f</td>\n",
       "      <td>f</td>\n",
       "      <td>f</td>\n",
       "      <td>f</td>\n",
       "      <td>f</td>\n",
       "      <td>f</td>\n",
       "      <td>f</td>\n",
       "      <td>f</td>\n",
       "      <td>f</td>\n",
       "      <td>f</td>\n",
       "      <td>f</td>\n",
       "      <td>f</td>\n",
       "      <td>f</td>\n",
       "      <td>f</td>\n",
       "      <td>t</td>\n",
       "      <td>1.3</td>\n",
       "      <td>t</td>\n",
       "      <td>2.5</td>\n",
       "      <td>t</td>\n",
       "      <td>125</td>\n",
       "      <td>t</td>\n",
       "      <td>1.14</td>\n",
       "      <td>t</td>\n",
       "      <td>109</td>\n",
       "      <td>f</td>\n",
       "      <td>SVHC</td>\n",
       "      <td>negative</td>\n",
       "    </tr>\n",
       "    <tr>\n",
       "      <th>1</th>\n",
       "      <td>23</td>\n",
       "      <td>F</td>\n",
       "      <td>f</td>\n",
       "      <td>f</td>\n",
       "      <td>f</td>\n",
       "      <td>f</td>\n",
       "      <td>f</td>\n",
       "      <td>f</td>\n",
       "      <td>f</td>\n",
       "      <td>f</td>\n",
       "      <td>f</td>\n",
       "      <td>f</td>\n",
       "      <td>f</td>\n",
       "      <td>f</td>\n",
       "      <td>f</td>\n",
       "      <td>f</td>\n",
       "      <td>t</td>\n",
       "      <td>4.1</td>\n",
       "      <td>t</td>\n",
       "      <td>2</td>\n",
       "      <td>t</td>\n",
       "      <td>102</td>\n",
       "      <td>f</td>\n",
       "      <td>NaN</td>\n",
       "      <td>f</td>\n",
       "      <td>NaN</td>\n",
       "      <td>f</td>\n",
       "      <td>other</td>\n",
       "      <td>negative</td>\n",
       "    </tr>\n",
       "    <tr>\n",
       "      <th>2</th>\n",
       "      <td>46</td>\n",
       "      <td>M</td>\n",
       "      <td>f</td>\n",
       "      <td>f</td>\n",
       "      <td>f</td>\n",
       "      <td>f</td>\n",
       "      <td>f</td>\n",
       "      <td>f</td>\n",
       "      <td>f</td>\n",
       "      <td>f</td>\n",
       "      <td>f</td>\n",
       "      <td>f</td>\n",
       "      <td>f</td>\n",
       "      <td>f</td>\n",
       "      <td>f</td>\n",
       "      <td>f</td>\n",
       "      <td>t</td>\n",
       "      <td>0.98</td>\n",
       "      <td>f</td>\n",
       "      <td>NaN</td>\n",
       "      <td>t</td>\n",
       "      <td>109</td>\n",
       "      <td>t</td>\n",
       "      <td>0.91</td>\n",
       "      <td>t</td>\n",
       "      <td>120</td>\n",
       "      <td>f</td>\n",
       "      <td>other</td>\n",
       "      <td>negative</td>\n",
       "    </tr>\n",
       "    <tr>\n",
       "      <th>3</th>\n",
       "      <td>70</td>\n",
       "      <td>F</td>\n",
       "      <td>t</td>\n",
       "      <td>f</td>\n",
       "      <td>f</td>\n",
       "      <td>f</td>\n",
       "      <td>f</td>\n",
       "      <td>f</td>\n",
       "      <td>f</td>\n",
       "      <td>f</td>\n",
       "      <td>f</td>\n",
       "      <td>f</td>\n",
       "      <td>f</td>\n",
       "      <td>f</td>\n",
       "      <td>f</td>\n",
       "      <td>f</td>\n",
       "      <td>t</td>\n",
       "      <td>0.16</td>\n",
       "      <td>t</td>\n",
       "      <td>1.9</td>\n",
       "      <td>t</td>\n",
       "      <td>175</td>\n",
       "      <td>f</td>\n",
       "      <td>NaN</td>\n",
       "      <td>f</td>\n",
       "      <td>NaN</td>\n",
       "      <td>f</td>\n",
       "      <td>other</td>\n",
       "      <td>negative</td>\n",
       "    </tr>\n",
       "    <tr>\n",
       "      <th>4</th>\n",
       "      <td>70</td>\n",
       "      <td>F</td>\n",
       "      <td>f</td>\n",
       "      <td>f</td>\n",
       "      <td>f</td>\n",
       "      <td>f</td>\n",
       "      <td>f</td>\n",
       "      <td>f</td>\n",
       "      <td>f</td>\n",
       "      <td>f</td>\n",
       "      <td>f</td>\n",
       "      <td>f</td>\n",
       "      <td>f</td>\n",
       "      <td>f</td>\n",
       "      <td>f</td>\n",
       "      <td>f</td>\n",
       "      <td>t</td>\n",
       "      <td>0.72</td>\n",
       "      <td>t</td>\n",
       "      <td>1.2</td>\n",
       "      <td>t</td>\n",
       "      <td>61</td>\n",
       "      <td>t</td>\n",
       "      <td>0.87</td>\n",
       "      <td>t</td>\n",
       "      <td>70</td>\n",
       "      <td>f</td>\n",
       "      <td>SVI</td>\n",
       "      <td>negative</td>\n",
       "    </tr>\n",
       "    <tr>\n",
       "      <th>...</th>\n",
       "      <td>...</td>\n",
       "      <td>...</td>\n",
       "      <td>...</td>\n",
       "      <td>...</td>\n",
       "      <td>...</td>\n",
       "      <td>...</td>\n",
       "      <td>...</td>\n",
       "      <td>...</td>\n",
       "      <td>...</td>\n",
       "      <td>...</td>\n",
       "      <td>...</td>\n",
       "      <td>...</td>\n",
       "      <td>...</td>\n",
       "      <td>...</td>\n",
       "      <td>...</td>\n",
       "      <td>...</td>\n",
       "      <td>...</td>\n",
       "      <td>...</td>\n",
       "      <td>...</td>\n",
       "      <td>...</td>\n",
       "      <td>...</td>\n",
       "      <td>...</td>\n",
       "      <td>...</td>\n",
       "      <td>...</td>\n",
       "      <td>...</td>\n",
       "      <td>...</td>\n",
       "      <td>...</td>\n",
       "      <td>...</td>\n",
       "      <td>...</td>\n",
       "    </tr>\n",
       "    <tr>\n",
       "      <th>3767</th>\n",
       "      <td>30</td>\n",
       "      <td>F</td>\n",
       "      <td>f</td>\n",
       "      <td>f</td>\n",
       "      <td>f</td>\n",
       "      <td>f</td>\n",
       "      <td>f</td>\n",
       "      <td>f</td>\n",
       "      <td>f</td>\n",
       "      <td>f</td>\n",
       "      <td>f</td>\n",
       "      <td>f</td>\n",
       "      <td>f</td>\n",
       "      <td>t</td>\n",
       "      <td>f</td>\n",
       "      <td>f</td>\n",
       "      <td>f</td>\n",
       "      <td>NaN</td>\n",
       "      <td>f</td>\n",
       "      <td>NaN</td>\n",
       "      <td>f</td>\n",
       "      <td>NaN</td>\n",
       "      <td>f</td>\n",
       "      <td>NaN</td>\n",
       "      <td>f</td>\n",
       "      <td>NaN</td>\n",
       "      <td>f</td>\n",
       "      <td>other</td>\n",
       "      <td>negative</td>\n",
       "    </tr>\n",
       "    <tr>\n",
       "      <th>3768</th>\n",
       "      <td>68</td>\n",
       "      <td>F</td>\n",
       "      <td>f</td>\n",
       "      <td>f</td>\n",
       "      <td>f</td>\n",
       "      <td>f</td>\n",
       "      <td>f</td>\n",
       "      <td>f</td>\n",
       "      <td>f</td>\n",
       "      <td>f</td>\n",
       "      <td>f</td>\n",
       "      <td>f</td>\n",
       "      <td>f</td>\n",
       "      <td>f</td>\n",
       "      <td>f</td>\n",
       "      <td>f</td>\n",
       "      <td>t</td>\n",
       "      <td>1</td>\n",
       "      <td>t</td>\n",
       "      <td>2.1</td>\n",
       "      <td>t</td>\n",
       "      <td>124</td>\n",
       "      <td>t</td>\n",
       "      <td>1.08</td>\n",
       "      <td>t</td>\n",
       "      <td>114</td>\n",
       "      <td>f</td>\n",
       "      <td>SVI</td>\n",
       "      <td>negative</td>\n",
       "    </tr>\n",
       "    <tr>\n",
       "      <th>3769</th>\n",
       "      <td>74</td>\n",
       "      <td>F</td>\n",
       "      <td>f</td>\n",
       "      <td>f</td>\n",
       "      <td>f</td>\n",
       "      <td>f</td>\n",
       "      <td>f</td>\n",
       "      <td>f</td>\n",
       "      <td>f</td>\n",
       "      <td>f</td>\n",
       "      <td>t</td>\n",
       "      <td>f</td>\n",
       "      <td>f</td>\n",
       "      <td>f</td>\n",
       "      <td>f</td>\n",
       "      <td>f</td>\n",
       "      <td>t</td>\n",
       "      <td>5.1</td>\n",
       "      <td>t</td>\n",
       "      <td>1.8</td>\n",
       "      <td>t</td>\n",
       "      <td>112</td>\n",
       "      <td>t</td>\n",
       "      <td>1.07</td>\n",
       "      <td>t</td>\n",
       "      <td>105</td>\n",
       "      <td>f</td>\n",
       "      <td>other</td>\n",
       "      <td>negative</td>\n",
       "    </tr>\n",
       "    <tr>\n",
       "      <th>3770</th>\n",
       "      <td>72</td>\n",
       "      <td>M</td>\n",
       "      <td>f</td>\n",
       "      <td>f</td>\n",
       "      <td>f</td>\n",
       "      <td>f</td>\n",
       "      <td>f</td>\n",
       "      <td>f</td>\n",
       "      <td>f</td>\n",
       "      <td>f</td>\n",
       "      <td>f</td>\n",
       "      <td>f</td>\n",
       "      <td>f</td>\n",
       "      <td>f</td>\n",
       "      <td>f</td>\n",
       "      <td>f</td>\n",
       "      <td>t</td>\n",
       "      <td>0.7</td>\n",
       "      <td>t</td>\n",
       "      <td>2</td>\n",
       "      <td>t</td>\n",
       "      <td>82</td>\n",
       "      <td>t</td>\n",
       "      <td>0.94</td>\n",
       "      <td>t</td>\n",
       "      <td>87</td>\n",
       "      <td>f</td>\n",
       "      <td>SVI</td>\n",
       "      <td>negative</td>\n",
       "    </tr>\n",
       "    <tr>\n",
       "      <th>3771</th>\n",
       "      <td>64</td>\n",
       "      <td>F</td>\n",
       "      <td>f</td>\n",
       "      <td>f</td>\n",
       "      <td>f</td>\n",
       "      <td>f</td>\n",
       "      <td>f</td>\n",
       "      <td>f</td>\n",
       "      <td>f</td>\n",
       "      <td>f</td>\n",
       "      <td>f</td>\n",
       "      <td>f</td>\n",
       "      <td>f</td>\n",
       "      <td>f</td>\n",
       "      <td>f</td>\n",
       "      <td>f</td>\n",
       "      <td>t</td>\n",
       "      <td>1</td>\n",
       "      <td>t</td>\n",
       "      <td>2.2</td>\n",
       "      <td>t</td>\n",
       "      <td>99</td>\n",
       "      <td>t</td>\n",
       "      <td>1.07</td>\n",
       "      <td>t</td>\n",
       "      <td>92</td>\n",
       "      <td>f</td>\n",
       "      <td>other</td>\n",
       "      <td>negative</td>\n",
       "    </tr>\n",
       "  </tbody>\n",
       "</table>\n",
       "<p>3772 rows × 29 columns</p>\n",
       "</div>"
      ],
      "text/plain": [
       "     age sex on_thyroxine query_on_thyroxine on_antithyroid_medication sick  \\\n",
       "0     41   F            f                  f                         f    f   \n",
       "1     23   F            f                  f                         f    f   \n",
       "2     46   M            f                  f                         f    f   \n",
       "3     70   F            t                  f                         f    f   \n",
       "4     70   F            f                  f                         f    f   \n",
       "...   ..  ..          ...                ...                       ...  ...   \n",
       "3767  30   F            f                  f                         f    f   \n",
       "3768  68   F            f                  f                         f    f   \n",
       "3769  74   F            f                  f                         f    f   \n",
       "3770  72   M            f                  f                         f    f   \n",
       "3771  64   F            f                  f                         f    f   \n",
       "\n",
       "     pregnant thyroid_surgery I131_treatment query_hypothyroid  \\\n",
       "0           f               f              f                 f   \n",
       "1           f               f              f                 f   \n",
       "2           f               f              f                 f   \n",
       "3           f               f              f                 f   \n",
       "4           f               f              f                 f   \n",
       "...       ...             ...            ...               ...   \n",
       "3767        f               f              f                 f   \n",
       "3768        f               f              f                 f   \n",
       "3769        f               f              f                 f   \n",
       "3770        f               f              f                 f   \n",
       "3771        f               f              f                 f   \n",
       "\n",
       "     query_hyperthyroid lithium goitre tumor hypopituitary psych TSH_measured  \\\n",
       "0                     f       f      f     f             f     f            t   \n",
       "1                     f       f      f     f             f     f            t   \n",
       "2                     f       f      f     f             f     f            t   \n",
       "3                     f       f      f     f             f     f            t   \n",
       "4                     f       f      f     f             f     f            t   \n",
       "...                 ...     ...    ...   ...           ...   ...          ...   \n",
       "3767                  f       f      f     t             f     f            f   \n",
       "3768                  f       f      f     f             f     f            t   \n",
       "3769                  t       f      f     f             f     f            t   \n",
       "3770                  f       f      f     f             f     f            t   \n",
       "3771                  f       f      f     f             f     f            t   \n",
       "\n",
       "       TSH T3_measured   T3 TT4_measured  TT4 T4U_measured   T4U FTI_measured  \\\n",
       "0      1.3           t  2.5            t  125            t  1.14            t   \n",
       "1      4.1           t    2            t  102            f   NaN            f   \n",
       "2     0.98           f  NaN            t  109            t  0.91            t   \n",
       "3     0.16           t  1.9            t  175            f   NaN            f   \n",
       "4     0.72           t  1.2            t   61            t  0.87            t   \n",
       "...    ...         ...  ...          ...  ...          ...   ...          ...   \n",
       "3767   NaN           f  NaN            f  NaN            f   NaN            f   \n",
       "3768     1           t  2.1            t  124            t  1.08            t   \n",
       "3769   5.1           t  1.8            t  112            t  1.07            t   \n",
       "3770   0.7           t    2            t   82            t  0.94            t   \n",
       "3771     1           t  2.2            t   99            t  1.07            t   \n",
       "\n",
       "      FTI TBG_measured referral_source     Class  \n",
       "0     109            f            SVHC  negative  \n",
       "1     NaN            f           other  negative  \n",
       "2     120            f           other  negative  \n",
       "3     NaN            f           other  negative  \n",
       "4      70            f             SVI  negative  \n",
       "...   ...          ...             ...       ...  \n",
       "3767  NaN            f           other  negative  \n",
       "3768  114            f             SVI  negative  \n",
       "3769  105            f           other  negative  \n",
       "3770   87            f             SVI  negative  \n",
       "3771   92            f           other  negative  \n",
       "\n",
       "[3772 rows x 29 columns]"
      ]
     },
     "execution_count": 648,
     "metadata": {},
     "output_type": "execute_result"
    }
   ],
   "source": [
    "data"
   ]
  },
  {
   "cell_type": "code",
   "execution_count": 649,
   "metadata": {},
   "outputs": [],
   "source": [
    "# we can also observe that all the columns of the format x_measured \n",
    "# are just an indication of , whether the column x is measured or not\n",
    "# and hence , it tells if value in it is nan or not\n",
    "\n",
    "# So, there is no point in keeping those columns , so we drop them\n",
    "\n",
    "data.drop(['TSH_measured','T3_measured','TT4_measured','T4U_measured','FTI_measured','TBG_measured'],axis =1,inplace=True)"
   ]
  },
  {
   "cell_type": "code",
   "execution_count": 650,
   "metadata": {},
   "outputs": [],
   "source": [
    "# from observations \n",
    "# numeric cols - age,TSH,T3,TT4,T4U,FTI,TBG\n",
    "\n",
    "for i in [ 'age','TSH','T3','TT4','T4U','FTI']:\n",
    "    data[i]=pd.to_numeric(data[i])"
   ]
  },
  {
   "cell_type": "code",
   "execution_count": 651,
   "metadata": {},
   "outputs": [
    {
     "data": {
      "text/html": [
       "<div>\n",
       "<style scoped>\n",
       "    .dataframe tbody tr th:only-of-type {\n",
       "        vertical-align: middle;\n",
       "    }\n",
       "\n",
       "    .dataframe tbody tr th {\n",
       "        vertical-align: top;\n",
       "    }\n",
       "\n",
       "    .dataframe thead th {\n",
       "        text-align: right;\n",
       "    }\n",
       "</style>\n",
       "<table border=\"1\" class=\"dataframe\">\n",
       "  <thead>\n",
       "    <tr style=\"text-align: right;\">\n",
       "      <th></th>\n",
       "      <th>age</th>\n",
       "      <th>TSH</th>\n",
       "      <th>T3</th>\n",
       "      <th>TT4</th>\n",
       "      <th>T4U</th>\n",
       "      <th>FTI</th>\n",
       "    </tr>\n",
       "  </thead>\n",
       "  <tbody>\n",
       "    <tr>\n",
       "      <th>count</th>\n",
       "      <td>3771.000000</td>\n",
       "      <td>3403.000000</td>\n",
       "      <td>3003.000000</td>\n",
       "      <td>3541.000000</td>\n",
       "      <td>3385.000000</td>\n",
       "      <td>3387.000000</td>\n",
       "    </tr>\n",
       "    <tr>\n",
       "      <th>mean</th>\n",
       "      <td>51.735879</td>\n",
       "      <td>5.086766</td>\n",
       "      <td>2.013500</td>\n",
       "      <td>108.319345</td>\n",
       "      <td>0.995000</td>\n",
       "      <td>110.469649</td>\n",
       "    </tr>\n",
       "    <tr>\n",
       "      <th>std</th>\n",
       "      <td>20.084958</td>\n",
       "      <td>24.521470</td>\n",
       "      <td>0.827434</td>\n",
       "      <td>35.604248</td>\n",
       "      <td>0.195457</td>\n",
       "      <td>33.089698</td>\n",
       "    </tr>\n",
       "    <tr>\n",
       "      <th>min</th>\n",
       "      <td>1.000000</td>\n",
       "      <td>0.005000</td>\n",
       "      <td>0.050000</td>\n",
       "      <td>2.000000</td>\n",
       "      <td>0.250000</td>\n",
       "      <td>2.000000</td>\n",
       "    </tr>\n",
       "    <tr>\n",
       "      <th>25%</th>\n",
       "      <td>36.000000</td>\n",
       "      <td>0.500000</td>\n",
       "      <td>1.600000</td>\n",
       "      <td>88.000000</td>\n",
       "      <td>0.880000</td>\n",
       "      <td>93.000000</td>\n",
       "    </tr>\n",
       "    <tr>\n",
       "      <th>50%</th>\n",
       "      <td>54.000000</td>\n",
       "      <td>1.400000</td>\n",
       "      <td>2.000000</td>\n",
       "      <td>103.000000</td>\n",
       "      <td>0.980000</td>\n",
       "      <td>107.000000</td>\n",
       "    </tr>\n",
       "    <tr>\n",
       "      <th>75%</th>\n",
       "      <td>67.000000</td>\n",
       "      <td>2.700000</td>\n",
       "      <td>2.400000</td>\n",
       "      <td>124.000000</td>\n",
       "      <td>1.080000</td>\n",
       "      <td>124.000000</td>\n",
       "    </tr>\n",
       "    <tr>\n",
       "      <th>max</th>\n",
       "      <td>455.000000</td>\n",
       "      <td>530.000000</td>\n",
       "      <td>10.600000</td>\n",
       "      <td>430.000000</td>\n",
       "      <td>2.320000</td>\n",
       "      <td>395.000000</td>\n",
       "    </tr>\n",
       "  </tbody>\n",
       "</table>\n",
       "</div>"
      ],
      "text/plain": [
       "               age          TSH           T3          TT4          T4U  \\\n",
       "count  3771.000000  3403.000000  3003.000000  3541.000000  3385.000000   \n",
       "mean     51.735879     5.086766     2.013500   108.319345     0.995000   \n",
       "std      20.084958    24.521470     0.827434    35.604248     0.195457   \n",
       "min       1.000000     0.005000     0.050000     2.000000     0.250000   \n",
       "25%      36.000000     0.500000     1.600000    88.000000     0.880000   \n",
       "50%      54.000000     1.400000     2.000000   103.000000     0.980000   \n",
       "75%      67.000000     2.700000     2.400000   124.000000     1.080000   \n",
       "max     455.000000   530.000000    10.600000   430.000000     2.320000   \n",
       "\n",
       "               FTI  \n",
       "count  3387.000000  \n",
       "mean    110.469649  \n",
       "std      33.089698  \n",
       "min       2.000000  \n",
       "25%      93.000000  \n",
       "50%     107.000000  \n",
       "75%     124.000000  \n",
       "max     395.000000  "
      ]
     },
     "execution_count": 651,
     "metadata": {},
     "output_type": "execute_result"
    }
   ],
   "source": [
    "num_index=data.dtypes[data.dtypes==\"float64\"].index\n",
    "data[num_index].describe()"
   ]
  },
  {
   "cell_type": "code",
   "execution_count": 652,
   "metadata": {},
   "outputs": [
    {
     "data": {
      "text/html": [
       "<div>\n",
       "<style scoped>\n",
       "    .dataframe tbody tr th:only-of-type {\n",
       "        vertical-align: middle;\n",
       "    }\n",
       "\n",
       "    .dataframe tbody tr th {\n",
       "        vertical-align: top;\n",
       "    }\n",
       "\n",
       "    .dataframe thead th {\n",
       "        text-align: right;\n",
       "    }\n",
       "</style>\n",
       "<table border=\"1\" class=\"dataframe\">\n",
       "  <thead>\n",
       "    <tr style=\"text-align: right;\">\n",
       "      <th></th>\n",
       "      <th>sex</th>\n",
       "      <th>on_thyroxine</th>\n",
       "      <th>query_on_thyroxine</th>\n",
       "      <th>on_antithyroid_medication</th>\n",
       "      <th>sick</th>\n",
       "      <th>pregnant</th>\n",
       "      <th>thyroid_surgery</th>\n",
       "      <th>I131_treatment</th>\n",
       "      <th>query_hypothyroid</th>\n",
       "      <th>query_hyperthyroid</th>\n",
       "      <th>lithium</th>\n",
       "      <th>goitre</th>\n",
       "      <th>tumor</th>\n",
       "      <th>hypopituitary</th>\n",
       "      <th>psych</th>\n",
       "      <th>referral_source</th>\n",
       "      <th>Class</th>\n",
       "    </tr>\n",
       "  </thead>\n",
       "  <tbody>\n",
       "    <tr>\n",
       "      <th>count</th>\n",
       "      <td>3622</td>\n",
       "      <td>3772</td>\n",
       "      <td>3772</td>\n",
       "      <td>3772</td>\n",
       "      <td>3772</td>\n",
       "      <td>3772</td>\n",
       "      <td>3772</td>\n",
       "      <td>3772</td>\n",
       "      <td>3772</td>\n",
       "      <td>3772</td>\n",
       "      <td>3772</td>\n",
       "      <td>3772</td>\n",
       "      <td>3772</td>\n",
       "      <td>3772</td>\n",
       "      <td>3772</td>\n",
       "      <td>3772</td>\n",
       "      <td>3772</td>\n",
       "    </tr>\n",
       "    <tr>\n",
       "      <th>unique</th>\n",
       "      <td>2</td>\n",
       "      <td>2</td>\n",
       "      <td>2</td>\n",
       "      <td>2</td>\n",
       "      <td>2</td>\n",
       "      <td>2</td>\n",
       "      <td>2</td>\n",
       "      <td>2</td>\n",
       "      <td>2</td>\n",
       "      <td>2</td>\n",
       "      <td>2</td>\n",
       "      <td>2</td>\n",
       "      <td>2</td>\n",
       "      <td>2</td>\n",
       "      <td>2</td>\n",
       "      <td>5</td>\n",
       "      <td>4</td>\n",
       "    </tr>\n",
       "    <tr>\n",
       "      <th>top</th>\n",
       "      <td>F</td>\n",
       "      <td>f</td>\n",
       "      <td>f</td>\n",
       "      <td>f</td>\n",
       "      <td>f</td>\n",
       "      <td>f</td>\n",
       "      <td>f</td>\n",
       "      <td>f</td>\n",
       "      <td>f</td>\n",
       "      <td>f</td>\n",
       "      <td>f</td>\n",
       "      <td>f</td>\n",
       "      <td>f</td>\n",
       "      <td>f</td>\n",
       "      <td>f</td>\n",
       "      <td>other</td>\n",
       "      <td>negative</td>\n",
       "    </tr>\n",
       "    <tr>\n",
       "      <th>freq</th>\n",
       "      <td>2480</td>\n",
       "      <td>3308</td>\n",
       "      <td>3722</td>\n",
       "      <td>3729</td>\n",
       "      <td>3625</td>\n",
       "      <td>3719</td>\n",
       "      <td>3719</td>\n",
       "      <td>3713</td>\n",
       "      <td>3538</td>\n",
       "      <td>3535</td>\n",
       "      <td>3754</td>\n",
       "      <td>3738</td>\n",
       "      <td>3676</td>\n",
       "      <td>3771</td>\n",
       "      <td>3588</td>\n",
       "      <td>2201</td>\n",
       "      <td>3481</td>\n",
       "    </tr>\n",
       "  </tbody>\n",
       "</table>\n",
       "</div>"
      ],
      "text/plain": [
       "         sex on_thyroxine query_on_thyroxine on_antithyroid_medication  sick  \\\n",
       "count   3622         3772               3772                      3772  3772   \n",
       "unique     2            2                  2                         2     2   \n",
       "top        F            f                  f                         f     f   \n",
       "freq    2480         3308               3722                      3729  3625   \n",
       "\n",
       "       pregnant thyroid_surgery I131_treatment query_hypothyroid  \\\n",
       "count      3772            3772           3772              3772   \n",
       "unique        2               2              2                 2   \n",
       "top           f               f              f                 f   \n",
       "freq       3719            3719           3713              3538   \n",
       "\n",
       "       query_hyperthyroid lithium goitre tumor hypopituitary psych  \\\n",
       "count                3772    3772   3772  3772          3772  3772   \n",
       "unique                  2       2      2     2             2     2   \n",
       "top                     f       f      f     f             f     f   \n",
       "freq                 3535    3754   3738  3676          3771  3588   \n",
       "\n",
       "       referral_source     Class  \n",
       "count             3772      3772  \n",
       "unique               5         4  \n",
       "top              other  negative  \n",
       "freq              2201      3481  "
      ]
     },
     "execution_count": 652,
     "metadata": {},
     "output_type": "execute_result"
    }
   ],
   "source": [
    "categ_index=data.dtypes[data.dtypes=='object'].index\n",
    "data[categ_index].describe()"
   ]
  },
  {
   "cell_type": "code",
   "execution_count": 653,
   "metadata": {},
   "outputs": [],
   "source": [
    "# The fact that data is missing , for only some measurements indicates\n",
    "# that there is some important information it might denote\n",
    "\n",
    "# Hence , we capture the importance of nan values in a separate column\n",
    "# and impute the nan values in original col using KNN imputer\n",
    "\n",
    "from sklearn.impute import KNNImputer\n",
    "imputer=KNNImputer(missing_values=np.nan)\n",
    "\n",
    "\n",
    "for col in bad_col:\n",
    "    if col=='TBG':\n",
    "        continue\n",
    "    if col not in ['sex','age']:\n",
    "        data[col+\"_nan\"]=np.where(data[col].isnull(),1,0)\n",
    "    if data[col].dtype=='float64':\n",
    "        data[col]=imputer.fit_transform(data[[col]])\n",
    "    else :\n",
    "        data[col].fillna(data[col].mode()[0],inplace=True)\n",
    "\n",
    "  "
   ]
  },
  {
   "cell_type": "code",
   "execution_count": 654,
   "metadata": {},
   "outputs": [
    {
     "data": {
      "text/plain": [
       "age                          0\n",
       "sex                          0\n",
       "on_thyroxine                 0\n",
       "query_on_thyroxine           0\n",
       "on_antithyroid_medication    0\n",
       "                            ..\n",
       "TSH_nan                      0\n",
       "T3_nan                       0\n",
       "TT4_nan                      0\n",
       "T4U_nan                      0\n",
       "FTI_nan                      0\n",
       "Length: 28, dtype: int64"
      ]
     },
     "execution_count": 654,
     "metadata": {},
     "output_type": "execute_result"
    }
   ],
   "source": [
    "data.isnull().sum()"
   ]
  },
  {
   "cell_type": "code",
   "execution_count": 655,
   "metadata": {},
   "outputs": [
    {
     "data": {
      "text/plain": [
       "age                          float64\n",
       "sex                           object\n",
       "on_thyroxine                  object\n",
       "query_on_thyroxine            object\n",
       "on_antithyroid_medication     object\n",
       "                              ...   \n",
       "TSH_nan                        int32\n",
       "T3_nan                         int32\n",
       "TT4_nan                        int32\n",
       "T4U_nan                        int32\n",
       "FTI_nan                        int32\n",
       "Length: 28, dtype: object"
      ]
     },
     "execution_count": 655,
     "metadata": {},
     "output_type": "execute_result"
    }
   ],
   "source": [
    "data.dtypes"
   ]
  },
  {
   "cell_type": "code",
   "execution_count": 656,
   "metadata": {},
   "outputs": [],
   "source": [
    "# Rearranging Data\n",
    "\n",
    "data=data[['age', 'sex', 'on_thyroxine', 'query_on_thyroxine',\n",
    "       'on_antithyroid_medication', 'sick', 'pregnant', 'thyroid_surgery',\n",
    "       'I131_treatment', 'query_hypothyroid', 'query_hyperthyroid', 'lithium',\n",
    "       'goitre', 'tumor', 'hypopituitary', 'psych', 'TSH','TSH_nan', 'T3',  'T3_nan','TT4','TT4_nan',\n",
    "        'T4U','T4U_nan','FTI', 'FTI_nan', 'referral_source','Class']]"
   ]
  },
  {
   "cell_type": "code",
   "execution_count": 657,
   "metadata": {},
   "outputs": [
    {
     "data": {
      "text/plain": [
       "Index(['sex', 'on_thyroxine', 'query_on_thyroxine',\n",
       "       'on_antithyroid_medication', 'sick', 'pregnant', 'thyroid_surgery',\n",
       "       'I131_treatment', 'query_hypothyroid', 'query_hyperthyroid', 'lithium',\n",
       "       'goitre', 'tumor', 'hypopituitary', 'psych', 'referral_source',\n",
       "       'Class'],\n",
       "      dtype='object')"
      ]
     },
     "execution_count": 657,
     "metadata": {},
     "output_type": "execute_result"
    }
   ],
   "source": [
    "categ_index"
   ]
  },
  {
   "cell_type": "code",
   "execution_count": 658,
   "metadata": {},
   "outputs": [
    {
     "name": "stdout",
     "output_type": "stream",
     "text": [
      "sex \n",
      " F    2630\n",
      "M    1142\n",
      "Name: sex, dtype: int64\n",
      "on_thyroxine \n",
      " f    3308\n",
      "t     464\n",
      "Name: on_thyroxine, dtype: int64\n",
      "query_on_thyroxine \n",
      " f    3722\n",
      "t      50\n",
      "Name: query_on_thyroxine, dtype: int64\n",
      "on_antithyroid_medication \n",
      " f    3729\n",
      "t      43\n",
      "Name: on_antithyroid_medication, dtype: int64\n",
      "sick \n",
      " f    3625\n",
      "t     147\n",
      "Name: sick, dtype: int64\n",
      "pregnant \n",
      " f    3719\n",
      "t      53\n",
      "Name: pregnant, dtype: int64\n",
      "thyroid_surgery \n",
      " f    3719\n",
      "t      53\n",
      "Name: thyroid_surgery, dtype: int64\n",
      "I131_treatment \n",
      " f    3713\n",
      "t      59\n",
      "Name: I131_treatment, dtype: int64\n",
      "query_hypothyroid \n",
      " f    3538\n",
      "t     234\n",
      "Name: query_hypothyroid, dtype: int64\n",
      "query_hyperthyroid \n",
      " f    3535\n",
      "t     237\n",
      "Name: query_hyperthyroid, dtype: int64\n",
      "lithium \n",
      " f    3754\n",
      "t      18\n",
      "Name: lithium, dtype: int64\n",
      "goitre \n",
      " f    3738\n",
      "t      34\n",
      "Name: goitre, dtype: int64\n",
      "tumor \n",
      " f    3676\n",
      "t      96\n",
      "Name: tumor, dtype: int64\n",
      "hypopituitary \n",
      " f    3771\n",
      "t       1\n",
      "Name: hypopituitary, dtype: int64\n",
      "psych \n",
      " f    3588\n",
      "t     184\n",
      "Name: psych, dtype: int64\n",
      "referral_source \n",
      " other    2201\n",
      "SVI      1034\n",
      "SVHC      386\n",
      "STMW      112\n",
      "SVHD       39\n",
      "Name: referral_source, dtype: int64\n",
      "Class \n",
      " negative                   3481\n",
      "compensated_hypothyroid     194\n",
      "primary_hypothyroid          95\n",
      "secondary_hypothyroid         2\n",
      "Name: Class, dtype: int64\n"
     ]
    }
   ],
   "source": [
    "for i in categ_index:\n",
    "    print(i,\"\\n\",data[i].value_counts())"
   ]
  },
  {
   "cell_type": "code",
   "execution_count": 659,
   "metadata": {},
   "outputs": [],
   "source": [
    "# ENCODING CATEGORIAL COLUMNS\n",
    "\n",
    "# Most columns have only two categories - True and False\n",
    "# So, we use mapping instead of one hot encoding every single column\n",
    "\n",
    "# We'll do Frequency encoding of \"Referral Source\"\n",
    "\n",
    "t_f_map={'t':0,'f':1}  #true false mapper\n",
    "sex_map={'M':1,'F':0}\n",
    "ref_map=data.referral_source.value_counts().to_dict()\n",
    "\n",
    "for col in categ_index:\n",
    "    if col ==\"Class\":\n",
    "        continue\n",
    "    elif col ==\"sex\":\n",
    "        data[col]=data[col].map(sex_map)\n",
    "    elif col==\"referral_source\":\n",
    "        data[col]=data[col].map(ref_map)\n",
    "    else:\n",
    "        data[col]=data[col].map(t_f_map)\n"
   ]
  },
  {
   "cell_type": "code",
   "execution_count": 660,
   "metadata": {},
   "outputs": [
    {
     "data": {
      "text/plain": [
       "negative                   3481\n",
       "compensated_hypothyroid     194\n",
       "primary_hypothyroid          95\n",
       "secondary_hypothyroid         2\n",
       "Name: Class, dtype: int64"
      ]
     },
     "execution_count": 660,
     "metadata": {},
     "output_type": "execute_result"
    }
   ],
   "source": [
    "data.Class.value_counts()"
   ]
  },
  {
   "cell_type": "code",
   "execution_count": 661,
   "metadata": {},
   "outputs": [],
   "source": [
    "# LABEL ENCODING THE TARGET COLUMN\n",
    "# target col- Class has 4 distint categories\n",
    "\n",
    "from sklearn.preprocessing import LabelEncoder\n",
    "label_encoder=LabelEncoder()\n",
    "data.Class=label_encoder.fit_transform(data.Class)\n"
   ]
  },
  {
   "cell_type": "code",
   "execution_count": 662,
   "metadata": {},
   "outputs": [
    {
     "data": {
      "text/plain": [
       "array(['compensated_hypothyroid', 'negative', 'primary_hypothyroid',\n",
       "       'secondary_hypothyroid'], dtype=object)"
      ]
     },
     "execution_count": 662,
     "metadata": {},
     "output_type": "execute_result"
    }
   ],
   "source": [
    "label_encoder.classes_\n",
    "\n",
    "# encoded labels to --- negative : 1 ; compensated_hypothyroid : 0;\n",
    "# primary_hypothyroid : 2 ; secondary_hypothyroid : 3"
   ]
  },
  {
   "cell_type": "code",
   "execution_count": 663,
   "metadata": {},
   "outputs": [
    {
     "data": {
      "image/png": "[encoded data removed]",
      "text/plain": [
       "<Figure size 720x720 with 6 Axes>"
      ]
     },
     "metadata": {
      "needs_background": "light"
     },
     "output_type": "display_data"
    }
   ],
   "source": [
    "# visualizing the distributtion of numerical features\n",
    "\n",
    "from scipy import stats\n",
    "\n",
    "fig,ax=plt.subplots(3,2,figsize=(10,10))\n",
    "plt.subplots_adjust( \n",
    "                    wspace=0.7, \n",
    "                    hspace=1.1)\n",
    "\n",
    "a,b=0,0\n",
    "for col in num_index:\n",
    "    stats.probplot(data[col],plot=ax[a,b])\n",
    "    ax[a,b].set_title(col)\n",
    "    b+=1\n",
    "    if b==2:\n",
    "        b=0\n",
    "        a+=1\n",
    "    \n",
    "    # age column is normally distributed\n",
    "    # All other columns are left skewed , and hence will have utliers in the right tail of the distribution\n"
   ]
  },
  {
   "cell_type": "code",
   "execution_count": 664,
   "metadata": {},
   "outputs": [
    {
     "data": {
      "image/png": "[encoded data removed]",
      "text/plain": [
       "<Figure size 720x720 with 6 Axes>"
      ]
     },
     "metadata": {
      "needs_background": "light"
     },
     "output_type": "display_data"
    }
   ],
   "source": [
    "fig,ax=plt.subplots(3,2,figsize=(10,10))\n",
    "\n",
    "a,b=0,0\n",
    "for col in num_index:\n",
    "    sns.distplot(data[col],ax=ax[a,b])\n",
    "    b+=1\n",
    "    if b==2:\n",
    "        b=0\n",
    "        a+=1"
   ]
  },
  {
   "cell_type": "code",
   "execution_count": 665,
   "metadata": {},
   "outputs": [
    {
     "data": {
      "text/html": [
       "<div>\n",
       "<style scoped>\n",
       "    .dataframe tbody tr th:only-of-type {\n",
       "        vertical-align: middle;\n",
       "    }\n",
       "\n",
       "    .dataframe tbody tr th {\n",
       "        vertical-align: top;\n",
       "    }\n",
       "\n",
       "    .dataframe thead th {\n",
       "        text-align: right;\n",
       "    }\n",
       "</style>\n",
       "<table border=\"1\" class=\"dataframe\">\n",
       "  <thead>\n",
       "    <tr style=\"text-align: right;\">\n",
       "      <th></th>\n",
       "      <th>age</th>\n",
       "      <th>TSH</th>\n",
       "      <th>T3</th>\n",
       "      <th>TT4</th>\n",
       "      <th>T4U</th>\n",
       "      <th>FTI</th>\n",
       "    </tr>\n",
       "  </thead>\n",
       "  <tbody>\n",
       "    <tr>\n",
       "      <th>count</th>\n",
       "      <td>3772.000000</td>\n",
       "      <td>3772.000000</td>\n",
       "      <td>3772.000000</td>\n",
       "      <td>3772.000000</td>\n",
       "      <td>3772.000000</td>\n",
       "      <td>3772.000000</td>\n",
       "    </tr>\n",
       "    <tr>\n",
       "      <th>mean</th>\n",
       "      <td>51.735879</td>\n",
       "      <td>5.086766</td>\n",
       "      <td>2.013500</td>\n",
       "      <td>108.319345</td>\n",
       "      <td>0.995000</td>\n",
       "      <td>110.469649</td>\n",
       "    </tr>\n",
       "    <tr>\n",
       "      <th>std</th>\n",
       "      <td>20.082295</td>\n",
       "      <td>23.290853</td>\n",
       "      <td>0.738262</td>\n",
       "      <td>34.496511</td>\n",
       "      <td>0.185156</td>\n",
       "      <td>31.355087</td>\n",
       "    </tr>\n",
       "    <tr>\n",
       "      <th>min</th>\n",
       "      <td>1.000000</td>\n",
       "      <td>0.005000</td>\n",
       "      <td>0.050000</td>\n",
       "      <td>2.000000</td>\n",
       "      <td>0.250000</td>\n",
       "      <td>2.000000</td>\n",
       "    </tr>\n",
       "    <tr>\n",
       "      <th>25%</th>\n",
       "      <td>36.000000</td>\n",
       "      <td>0.600000</td>\n",
       "      <td>1.700000</td>\n",
       "      <td>89.000000</td>\n",
       "      <td>0.890000</td>\n",
       "      <td>94.000000</td>\n",
       "    </tr>\n",
       "    <tr>\n",
       "      <th>50%</th>\n",
       "      <td>54.000000</td>\n",
       "      <td>1.600000</td>\n",
       "      <td>2.013500</td>\n",
       "      <td>106.000000</td>\n",
       "      <td>0.995000</td>\n",
       "      <td>110.000000</td>\n",
       "    </tr>\n",
       "    <tr>\n",
       "      <th>75%</th>\n",
       "      <td>67.000000</td>\n",
       "      <td>3.800000</td>\n",
       "      <td>2.200000</td>\n",
       "      <td>123.000000</td>\n",
       "      <td>1.070000</td>\n",
       "      <td>121.250000</td>\n",
       "    </tr>\n",
       "    <tr>\n",
       "      <th>max</th>\n",
       "      <td>455.000000</td>\n",
       "      <td>530.000000</td>\n",
       "      <td>10.600000</td>\n",
       "      <td>430.000000</td>\n",
       "      <td>2.320000</td>\n",
       "      <td>395.000000</td>\n",
       "    </tr>\n",
       "  </tbody>\n",
       "</table>\n",
       "</div>"
      ],
      "text/plain": [
       "               age          TSH           T3          TT4          T4U  \\\n",
       "count  3772.000000  3772.000000  3772.000000  3772.000000  3772.000000   \n",
       "mean     51.735879     5.086766     2.013500   108.319345     0.995000   \n",
       "std      20.082295    23.290853     0.738262    34.496511     0.185156   \n",
       "min       1.000000     0.005000     0.050000     2.000000     0.250000   \n",
       "25%      36.000000     0.600000     1.700000    89.000000     0.890000   \n",
       "50%      54.000000     1.600000     2.013500   106.000000     0.995000   \n",
       "75%      67.000000     3.800000     2.200000   123.000000     1.070000   \n",
       "max     455.000000   530.000000    10.600000   430.000000     2.320000   \n",
       "\n",
       "               FTI  \n",
       "count  3772.000000  \n",
       "mean    110.469649  \n",
       "std      31.355087  \n",
       "min       2.000000  \n",
       "25%      94.000000  \n",
       "50%     110.000000  \n",
       "75%     121.250000  \n",
       "max     395.000000  "
      ]
     },
     "execution_count": 665,
     "metadata": {},
     "output_type": "execute_result"
    }
   ],
   "source": [
    "data[num_index].describe()"
   ]
  },
  {
   "cell_type": "code",
   "execution_count": 666,
   "metadata": {},
   "outputs": [
    {
     "data": {
      "image/png": "[encoded data removed]",
      "text/plain": [
       "<Figure size 720x720 with 6 Axes>"
      ]
     },
     "metadata": {
      "needs_background": "light"
     },
     "output_type": "display_data"
    }
   ],
   "source": [
    "# Checking for outliers in numerical features\n",
    "\n",
    "fig,ax=plt.subplots(3,2,figsize=(10,10))\n",
    "\n",
    "a,b=0,0\n",
    "for col in num_index:\n",
    "    sns.boxplot(data[col],ax=ax[a,b],whis=3)\n",
    "    b+=1\n",
    "    if b==2:\n",
    "        b=0\n",
    "        a+=1"
   ]
  },
  {
   "cell_type": "code",
   "execution_count": 667,
   "metadata": {},
   "outputs": [
    {
     "name": "stderr",
     "output_type": "stream",
     "text": [
      "C:\\ProgramData\\Anaconda3\\lib\\site-packages\\pandas\\core\\indexing.py:671: SettingWithCopyWarning: \n",
      "A value is trying to be set on a copy of a slice from a DataFrame\n",
      "\n",
      "See the caveats in the documentation: https://pandas.pydata.org/pandas-docs/stable/user_guide/indexing.html#returning-a-view-versus-a-copy\n",
      "  self._setitem_with_indexer(indexer, value)\n"
     ]
    },
    {
     "name": "stdout",
     "output_type": "stream",
     "text": [
      "age\n",
      "No. of Outliers : 1\n",
      "TSH\n",
      "No. of Outliers : 167\n",
      "T3\n",
      "No. of Outliers : 105\n",
      "TT4\n",
      "No. of Outliers : 32\n",
      "T4U\n",
      "No. of Outliers : 60\n",
      "FTI\n",
      "No. of Outliers : 76\n"
     ]
    }
   ],
   "source": [
    "# Finding the no. of outliers in each col and impute them with the mean value\n",
    "\n",
    "for col in num_index:\n",
    "    q1=data[col].quantile(0.25)\n",
    "    q3=data[col].quantile(0.75)\n",
    "    iqr=q3-q1\n",
    "    a,b=0,0\n",
    "    for idx,i in enumerate(data[col]):\n",
    "        if (i<q1-3*iqr) or (i>q3+3*iqr):\n",
    "            b+=1\n",
    "            data[col].loc[idx]=data[col].mean()\n",
    "    print(f\"{col}\")\n",
    "    print(f\"No. of Outliers : {b}\")"
   ]
  },
  {
   "cell_type": "code",
   "execution_count": 668,
   "metadata": {},
   "outputs": [
    {
     "data": {
      "image/png": "[encoded data removed]",
      "text/plain": [
       "<Figure size 720x720 with 6 Axes>"
      ]
     },
     "metadata": {
      "needs_background": "light"
     },
     "output_type": "display_data"
    }
   ],
   "source": [
    "# Checking for outliers after they have been imputed with mean values\n",
    "\n",
    "fig,ax=plt.subplots(3,2,figsize=(10,10))\n",
    "\n",
    "a,b=0,0\n",
    "for col in num_index:\n",
    "    sns.boxplot(data[col],ax=ax[a,b],whis=3)\n",
    "    b+=1\n",
    "    if b==2:\n",
    "        b=0\n",
    "        a+=1"
   ]
  },
  {
   "cell_type": "code",
   "execution_count": 669,
   "metadata": {},
   "outputs": [
    {
     "name": "stdout",
     "output_type": "stream",
     "text": [
      "1    3481\n",
      "0     194\n",
      "2      95\n",
      "3       2\n",
      "Name: Class, dtype: int64\n"
     ]
    },
    {
     "data": {
      "image/png": "[encoded data removed]",
      "text/plain": [
       "<Figure size 432x288 with 1 Axes>"
      ]
     },
     "metadata": {
      "needs_background": "light"
     },
     "output_type": "display_data"
    }
   ],
   "source": [
    "# we can clearly see that some of the classes are highly under-represented\n",
    "# The dataset is highly imbalanced\n",
    "\n",
    "sns.countplot(data.Class)\n",
    "print(data.Class.value_counts())"
   ]
  },
  {
   "cell_type": "code",
   "execution_count": 670,
   "metadata": {},
   "outputs": [],
   "source": [
    "# Oversampling using SMOTE\n",
    "\n",
    "X=data.drop(['Class'],axis=1)\n",
    "y=data.Class\n",
    "\n",
    "from imblearn.over_sampling import ADASYN,SMOTE,RandomOverSampler,KMeansSMOTE\n",
    "\n",
    "smote=SMOTE(k_neighbors=1)\n",
    "X,y=smote.fit_resample(X,y)"
   ]
  },
  {
   "cell_type": "code",
   "execution_count": 671,
   "metadata": {},
   "outputs": [
    {
     "name": "stdout",
     "output_type": "stream",
     "text": [
      "3    3481\n",
      "2    3481\n",
      "1    3481\n",
      "0    3481\n",
      "Name: Class, dtype: int64\n"
     ]
    },
    {
     "data": {
      "image/png": "[encoded data removed]",
      "text/plain": [
       "<Figure size 432x288 with 1 Axes>"
      ]
     },
     "metadata": {
      "needs_background": "light"
     },
     "output_type": "display_data"
    }
   ],
   "source": [
    "sns.countplot(y)\n",
    "print(y.value_counts())"
   ]
  },
  {
   "cell_type": "code",
   "execution_count": 672,
   "metadata": {},
   "outputs": [
    {
     "data": {
      "text/plain": [
       "'from sklearn.feature_selection import VarianceThreshold\\n\\nvar_thresh=VarianceThreshold(threshold=0.01)\\nvar_thresh.fit(X)\\n\\nprint(f\"{len(X.columns)-len(X.columns[var_thresh.get_support()])} columns have less than 0.01 variance , so we drop them\")\\n\\n[column for column in X.columns if column not in X.columns[var_thresh.get_support()]]'"
      ]
     },
     "execution_count": 672,
     "metadata": {},
     "output_type": "execute_result"
    }
   ],
   "source": [
    "# Checking if any columns don't have much variance and thereby \n",
    "# do not have much predictive power\n",
    "\n",
    "\"\"\"from sklearn.feature_selection import VarianceThreshold\n",
    "\n",
    "var_thresh=VarianceThreshold(threshold=0.01)\n",
    "var_thresh.fit(X)\n",
    "\n",
    "print(f\"{len(X.columns)-len(X.columns[var_thresh.get_support()])} columns have less than 0.01 variance , so we drop them\")\n",
    "\n",
    "[column for column in X.columns if column not in X.columns[var_thresh.get_support()]]\"\"\"\n",
    "\n",
    "# we didn't remove using variance threshold as it might remove some imortant info regarding the dataset\n",
    "# requires domain knowledge"
   ]
  },
  {
   "cell_type": "code",
   "execution_count": 673,
   "metadata": {},
   "outputs": [
    {
     "data": {
      "text/plain": [
       "<matplotlib.axes._subplots.AxesSubplot at 0x2032b7dd700>"
      ]
     },
     "execution_count": 673,
     "metadata": {},
     "output_type": "execute_result"
    },
    {
     "data": {
      "image/png": "[encoded data removed]",
      "text/plain": [
       "<Figure size 720x720 with 2 Axes>"
      ]
     },
     "metadata": {
      "needs_background": "light"
     },
     "output_type": "display_data"
    }
   ],
   "source": [
    "# Visualizing the correlation matrix\n",
    "\n",
    "fig=plt.figure(figsize=(10,10))\n",
    "sns.heatmap(X.corr())"
   ]
  },
  {
   "cell_type": "code",
   "execution_count": 674,
   "metadata": {},
   "outputs": [],
   "source": [
    "corr_matrix=X.corr()"
   ]
  },
  {
   "cell_type": "code",
   "execution_count": 675,
   "metadata": {},
   "outputs": [
    {
     "name": "stdout",
     "output_type": "stream",
     "text": [
      "\n",
      "T4U_nan---FTI_nan\n",
      "0.9983945430895294\n",
      "\n",
      "FTI_nan---T4U_nan\n",
      "0.9983945430895294\n"
     ]
    }
   ],
   "source": [
    "# Finding highly correlated columns and removing them\n",
    "\n",
    "highly_correlated=set()\n",
    "\n",
    "for i in X.columns:\n",
    "    for j in X.columns:\n",
    "        if j==i:\n",
    "            continue\n",
    "        else:\n",
    "            if abs(corr_matrix.loc[i,j])>0.85:\n",
    "                print(f\"\\n{i}---{j}\")\n",
    "                print(corr_matrix.loc[i,j])\n",
    "                if (i not in highly_correlated) and (j not in highly_correlated):\n",
    "                     highly_correlated.add(i)\n",
    "\n",
    "\n"
   ]
  },
  {
   "cell_type": "code",
   "execution_count": 676,
   "metadata": {},
   "outputs": [
    {
     "data": {
      "text/plain": [
       "['T4U_nan']"
      ]
     },
     "execution_count": 676,
     "metadata": {},
     "output_type": "execute_result"
    }
   ],
   "source": [
    "list(highly_correlated)"
   ]
  },
  {
   "cell_type": "code",
   "execution_count": 677,
   "metadata": {},
   "outputs": [],
   "source": [
    "X=X.drop(['T4U_nan'],axis=1)"
   ]
  },
  {
   "cell_type": "code",
   "execution_count": 678,
   "metadata": {},
   "outputs": [],
   "source": [
    "data=pd.concat([X,y],axis=1)"
   ]
  },
  {
   "cell_type": "code",
   "execution_count": 679,
   "metadata": {},
   "outputs": [
    {
     "data": {
      "text/plain": [
       "<matplotlib.axes._subplots.AxesSubplot at 0x20335c4b460>"
      ]
     },
     "execution_count": 679,
     "metadata": {},
     "output_type": "execute_result"
    },
    {
     "data": {
      "image/png": "[encoded data removed]",
      "text/plain": [
       "<Figure size 432x288 with 1 Axes>"
      ]
     },
     "metadata": {
      "needs_background": "light"
     },
     "output_type": "display_data"
    }
   ],
   "source": [
    "# Elbow curve ,to determine optimal no. of clusters\n",
    "\n",
    "from sklearn.cluster import dbscan,KMeans\n",
    "\n",
    "inertia=[]\n",
    "for k in range(2,10):\n",
    "    cluster=KMeans(n_clusters=k,n_init=10)\n",
    "    cluster.fit(data)\n",
    "    inertia.append(cluster.inertia_)\n",
    "\n",
    "elbow=pd.DataFrame(data={'Cluster':range(2,10),'Inertia':inertia})\n",
    "sns.lineplot(x=elbow.Cluster,y=elbow.Inertia)"
   ]
  },
  {
   "cell_type": "code",
   "execution_count": 680,
   "metadata": {},
   "outputs": [
    {
     "data": {
      "text/html": [
       "<div>\n",
       "<style scoped>\n",
       "    .dataframe tbody tr th:only-of-type {\n",
       "        vertical-align: middle;\n",
       "    }\n",
       "\n",
       "    .dataframe tbody tr th {\n",
       "        vertical-align: top;\n",
       "    }\n",
       "\n",
       "    .dataframe thead th {\n",
       "        text-align: right;\n",
       "    }\n",
       "</style>\n",
       "<table border=\"1\" class=\"dataframe\">\n",
       "  <thead>\n",
       "    <tr style=\"text-align: right;\">\n",
       "      <th></th>\n",
       "      <th>age</th>\n",
       "      <th>sex</th>\n",
       "      <th>on_thyroxine</th>\n",
       "      <th>query_on_thyroxine</th>\n",
       "      <th>on_antithyroid_medication</th>\n",
       "      <th>sick</th>\n",
       "      <th>pregnant</th>\n",
       "      <th>thyroid_surgery</th>\n",
       "      <th>I131_treatment</th>\n",
       "      <th>query_hypothyroid</th>\n",
       "      <th>query_hyperthyroid</th>\n",
       "      <th>lithium</th>\n",
       "      <th>goitre</th>\n",
       "      <th>tumor</th>\n",
       "      <th>hypopituitary</th>\n",
       "      <th>psych</th>\n",
       "      <th>TSH</th>\n",
       "      <th>TSH_nan</th>\n",
       "      <th>T3</th>\n",
       "      <th>T3_nan</th>\n",
       "      <th>TT4</th>\n",
       "      <th>TT4_nan</th>\n",
       "      <th>T4U</th>\n",
       "      <th>FTI</th>\n",
       "      <th>FTI_nan</th>\n",
       "      <th>referral_source</th>\n",
       "      <th>Cluster</th>\n",
       "    </tr>\n",
       "  </thead>\n",
       "  <tbody>\n",
       "    <tr>\n",
       "      <th>0</th>\n",
       "      <td>41.0</td>\n",
       "      <td>0</td>\n",
       "      <td>1</td>\n",
       "      <td>1</td>\n",
       "      <td>1</td>\n",
       "      <td>1</td>\n",
       "      <td>1</td>\n",
       "      <td>1</td>\n",
       "      <td>1</td>\n",
       "      <td>1</td>\n",
       "      <td>1</td>\n",
       "      <td>1</td>\n",
       "      <td>1</td>\n",
       "      <td>1</td>\n",
       "      <td>1</td>\n",
       "      <td>1</td>\n",
       "      <td>1.30</td>\n",
       "      <td>0</td>\n",
       "      <td>2.5000</td>\n",
       "      <td>0</td>\n",
       "      <td>125.0</td>\n",
       "      <td>0</td>\n",
       "      <td>1.140</td>\n",
       "      <td>109.000000</td>\n",
       "      <td>0</td>\n",
       "      <td>386</td>\n",
       "      <td>2</td>\n",
       "    </tr>\n",
       "    <tr>\n",
       "      <th>1</th>\n",
       "      <td>23.0</td>\n",
       "      <td>0</td>\n",
       "      <td>1</td>\n",
       "      <td>1</td>\n",
       "      <td>1</td>\n",
       "      <td>1</td>\n",
       "      <td>1</td>\n",
       "      <td>1</td>\n",
       "      <td>1</td>\n",
       "      <td>1</td>\n",
       "      <td>1</td>\n",
       "      <td>1</td>\n",
       "      <td>1</td>\n",
       "      <td>1</td>\n",
       "      <td>1</td>\n",
       "      <td>1</td>\n",
       "      <td>4.10</td>\n",
       "      <td>0</td>\n",
       "      <td>2.0000</td>\n",
       "      <td>0</td>\n",
       "      <td>102.0</td>\n",
       "      <td>0</td>\n",
       "      <td>0.995</td>\n",
       "      <td>110.469649</td>\n",
       "      <td>1</td>\n",
       "      <td>2201</td>\n",
       "      <td>1</td>\n",
       "    </tr>\n",
       "    <tr>\n",
       "      <th>2</th>\n",
       "      <td>46.0</td>\n",
       "      <td>1</td>\n",
       "      <td>1</td>\n",
       "      <td>1</td>\n",
       "      <td>1</td>\n",
       "      <td>1</td>\n",
       "      <td>1</td>\n",
       "      <td>1</td>\n",
       "      <td>1</td>\n",
       "      <td>1</td>\n",
       "      <td>1</td>\n",
       "      <td>1</td>\n",
       "      <td>1</td>\n",
       "      <td>1</td>\n",
       "      <td>1</td>\n",
       "      <td>1</td>\n",
       "      <td>0.98</td>\n",
       "      <td>0</td>\n",
       "      <td>2.0135</td>\n",
       "      <td>1</td>\n",
       "      <td>109.0</td>\n",
       "      <td>0</td>\n",
       "      <td>0.910</td>\n",
       "      <td>120.000000</td>\n",
       "      <td>0</td>\n",
       "      <td>2201</td>\n",
       "      <td>1</td>\n",
       "    </tr>\n",
       "    <tr>\n",
       "      <th>3</th>\n",
       "      <td>70.0</td>\n",
       "      <td>0</td>\n",
       "      <td>0</td>\n",
       "      <td>1</td>\n",
       "      <td>1</td>\n",
       "      <td>1</td>\n",
       "      <td>1</td>\n",
       "      <td>1</td>\n",
       "      <td>1</td>\n",
       "      <td>1</td>\n",
       "      <td>1</td>\n",
       "      <td>1</td>\n",
       "      <td>1</td>\n",
       "      <td>1</td>\n",
       "      <td>1</td>\n",
       "      <td>1</td>\n",
       "      <td>0.16</td>\n",
       "      <td>0</td>\n",
       "      <td>1.9000</td>\n",
       "      <td>0</td>\n",
       "      <td>175.0</td>\n",
       "      <td>0</td>\n",
       "      <td>0.995</td>\n",
       "      <td>110.469649</td>\n",
       "      <td>1</td>\n",
       "      <td>2201</td>\n",
       "      <td>1</td>\n",
       "    </tr>\n",
       "    <tr>\n",
       "      <th>4</th>\n",
       "      <td>70.0</td>\n",
       "      <td>0</td>\n",
       "      <td>1</td>\n",
       "      <td>1</td>\n",
       "      <td>1</td>\n",
       "      <td>1</td>\n",
       "      <td>1</td>\n",
       "      <td>1</td>\n",
       "      <td>1</td>\n",
       "      <td>1</td>\n",
       "      <td>1</td>\n",
       "      <td>1</td>\n",
       "      <td>1</td>\n",
       "      <td>1</td>\n",
       "      <td>1</td>\n",
       "      <td>1</td>\n",
       "      <td>0.72</td>\n",
       "      <td>0</td>\n",
       "      <td>1.2000</td>\n",
       "      <td>0</td>\n",
       "      <td>61.0</td>\n",
       "      <td>0</td>\n",
       "      <td>0.870</td>\n",
       "      <td>70.000000</td>\n",
       "      <td>0</td>\n",
       "      <td>1034</td>\n",
       "      <td>0</td>\n",
       "    </tr>\n",
       "  </tbody>\n",
       "</table>\n",
       "</div>"
      ],
      "text/plain": [
       "    age  sex  on_thyroxine  query_on_thyroxine  on_antithyroid_medication  \\\n",
       "0  41.0    0             1                   1                          1   \n",
       "1  23.0    0             1                   1                          1   \n",
       "2  46.0    1             1                   1                          1   \n",
       "3  70.0    0             0                   1                          1   \n",
       "4  70.0    0             1                   1                          1   \n",
       "\n",
       "   sick  pregnant  thyroid_surgery  I131_treatment  query_hypothyroid  \\\n",
       "0     1         1                1               1                  1   \n",
       "1     1         1                1               1                  1   \n",
       "2     1         1                1               1                  1   \n",
       "3     1         1                1               1                  1   \n",
       "4     1         1                1               1                  1   \n",
       "\n",
       "   query_hyperthyroid  lithium  goitre  tumor  hypopituitary  psych   TSH  \\\n",
       "0                   1        1       1      1              1      1  1.30   \n",
       "1                   1        1       1      1              1      1  4.10   \n",
       "2                   1        1       1      1              1      1  0.98   \n",
       "3                   1        1       1      1              1      1  0.16   \n",
       "4                   1        1       1      1              1      1  0.72   \n",
       "\n",
       "   TSH_nan      T3  T3_nan    TT4  TT4_nan    T4U         FTI  FTI_nan  \\\n",
       "0        0  2.5000       0  125.0        0  1.140  109.000000        0   \n",
       "1        0  2.0000       0  102.0        0  0.995  110.469649        1   \n",
       "2        0  2.0135       1  109.0        0  0.910  120.000000        0   \n",
       "3        0  1.9000       0  175.0        0  0.995  110.469649        1   \n",
       "4        0  1.2000       0   61.0        0  0.870   70.000000        0   \n",
       "\n",
       "   referral_source  Cluster  \n",
       "0              386        2  \n",
       "1             2201        1  \n",
       "2             2201        1  \n",
       "3             2201        1  \n",
       "4             1034        0  "
      ]
     },
     "execution_count": 680,
     "metadata": {},
     "output_type": "execute_result"
    }
   ],
   "source": [
    "#Clustering data to fit separate models on the different clusters , so that model generalises well\n",
    "#From above elbow curve , optimal no. of clusters is 3 or 4 ( as expected )\n",
    "\n",
    "from sklearn.cluster import KMeans\n",
    "kmeans=KMeans(n_clusters=4)\n",
    "kmeans.fit(data.drop(['Class'],axis=1)) \n",
    "data['Cluster']=kmeans.predict(data.drop(['Class'],axis=1))\n",
    "data.drop(['Class'],axis=1).head()"
   ]
  },
  {
   "cell_type": "code",
   "execution_count": 681,
   "metadata": {},
   "outputs": [
    {
     "data": {
      "text/plain": [
       "{0, 1, 2, 3}"
      ]
     },
     "execution_count": 681,
     "metadata": {},
     "output_type": "execute_result"
    }
   ],
   "source": [
    "# cluster labels\n",
    "set(kmeans.labels_)"
   ]
  },
  {
   "cell_type": "code",
   "execution_count": 682,
   "metadata": {},
   "outputs": [
    {
     "data": {
      "text/plain": [
       "1    9537\n",
       "0    3423\n",
       "2     591\n",
       "3     373\n",
       "Name: Cluster, dtype: int64"
      ]
     },
     "execution_count": 682,
     "metadata": {},
     "output_type": "execute_result"
    }
   ],
   "source": [
    "data.Cluster.value_counts()"
   ]
  },
  {
   "cell_type": "code",
   "execution_count": 683,
   "metadata": {},
   "outputs": [],
   "source": [
    "data_c1=data[data.Cluster==0].drop(['Cluster'],axis=1).copy(deep=True)\n",
    "data_c2=data[data.Cluster==1].drop(['Cluster'],axis=1).copy(deep=True)\n",
    "data_c3=data[data.Cluster==2].drop(['Cluster'],axis=1).copy(deep=True)\n",
    "data_c4=data[data.Cluster==3].drop(['Cluster'],axis=1).copy(deep=True)"
   ]
  },
  {
   "cell_type": "code",
   "execution_count": 684,
   "metadata": {},
   "outputs": [
    {
     "data": {
      "text/plain": [
       "' Logistic Regression , KNN , SVM , Naive Bayes Classifier , Dtree Classifier, XGB classifier , rand-forest classifier\\nStacking '"
      ]
     },
     "execution_count": 684,
     "metadata": {},
     "output_type": "execute_result"
    }
   ],
   "source": [
    "#Classification Models to try :\n",
    "\"\"\" Logistic Regression , KNN , SVM , Naive Bayes Classifier , Dtree Classifier, XGB classifier , rand-forest classifier\n",
    "Stacking \"\"\""
   ]
  },
  {
   "cell_type": "code",
   "execution_count": 685,
   "metadata": {},
   "outputs": [],
   "source": [
    "# Evaluation metric for models - Recall ( Since , thyroid is a life\n",
    "# threatening disease , it is important to identify if a person is \n",
    "# having it ; hencewe choose Recall / sensitivity a s our model)"
   ]
  },
  {
   "cell_type": "code",
   "execution_count": 686,
   "metadata": {},
   "outputs": [
    {
     "name": "stdout",
     "output_type": "stream",
     "text": [
      "Cluster 1--Recall:0.9580325097069678  Accuracy :0.9620253164556962 \n",
      "Cluster 2--Recall:0.9821947792348297  Accuracy :0.9842767295597484 \n",
      "Cluster 3--Recall:0.9943977591036415  Accuracy :0.9887640449438202 \n",
      "Cluster 4--Recall:0.9912280701754387  Accuracy :0.9910714285714286 \n"
     ]
    }
   ],
   "source": [
    "#Trying Logistic Regression\n",
    "\n",
    "import numpy as np\n",
    "from sklearn.model_selection import train_test_split\n",
    "from sklearn.linear_model import LogisticRegression\n",
    "from sklearn.metrics import recall_score,accuracy_score,roc_auc_score\n",
    "\n",
    "scores_logreg=[]\n",
    "accuracy_logreg=[]\n",
    "\n",
    "# Standardizing the data\n",
    "\n",
    "from sklearn.preprocessing import StandardScaler\n",
    "scaler=StandardScaler()\n",
    "\n",
    "for i in [data_c1,data_c2,data_c3,data_c4]:\n",
    "        X=i.drop(['Class'],axis=1)\n",
    "        X=scaler.fit_transform(X)\n",
    "        y=i.Class\n",
    "        X_train,X_test,y_train,y_test=train_test_split(X,np.ravel(y),test_size=0.3,random_state=2)\n",
    "\n",
    "        logreg=LogisticRegression(max_iter=1000,solver='newton-cg')\n",
    "        logreg.fit(X_train,y_train)\n",
    "        pred=logreg.predict(X_test)\n",
    "        pred_proba=logreg.predict_proba(X_test)\n",
    "\n",
    "        #collecting accuracy\n",
    "        acc=accuracy_score(y_test,pred)\n",
    "        accuracy_logreg.append(acc)\n",
    "\n",
    "        #collecting recall\n",
    "        recall=recall_score(y_test,pred,average='macro')\n",
    "        scores_logreg.append(recall)\n",
    "\n",
    "            \n",
    "print(f\"Cluster 1--Recall:{scores_logreg[0]}  Accuracy :{accuracy_logreg[0]} \")\n",
    "print(f\"Cluster 2--Recall:{scores_logreg[1]}  Accuracy :{accuracy_logreg[1]} \")\n",
    "print(f\"Cluster 3--Recall:{scores_logreg[2]}  Accuracy :{accuracy_logreg[2]} \")\n",
    "print(f\"Cluster 4--Recall:{scores_logreg[3]}  Accuracy :{accuracy_logreg[3]} \")"
   ]
  },
  {
   "cell_type": "code",
   "execution_count": 687,
   "metadata": {},
   "outputs": [
    {
     "name": "stdout",
     "output_type": "stream",
     "text": [
      "Cluster 1---Recall : 0.9714625207236934  Accuracy : 0.9776046738072055\n",
      "Cluster 2---Recall : 0.9749190707894811  Accuracy : 0.9779874213836478\n",
      "Cluster 3---Recall : 0.988795518207283  Accuracy : 0.9775280898876404\n",
      "Cluster 4---Recall : 0.9912280701754387  Accuracy : 0.9910714285714286\n"
     ]
    }
   ],
   "source": [
    "# Trying KNN Classifier\n",
    "\n",
    "from sklearn.neighbors import KNeighborsClassifier\n",
    "\n",
    "scores_knn=[]\n",
    "accuracy_knn=[]\n",
    "\n",
    "scaler=StandardScaler()\n",
    "\n",
    "for i in [data_c1,data_c2,data_c3,data_c4]:\n",
    "        X=i.drop(['Class'],axis=1)\n",
    "        X=scaler.fit_transform(X)\n",
    "        y=i.Class\n",
    "        X_train,X_test,y_train,y_test=train_test_split(X,np.ravel(y),test_size=0.3,random_state=2)\n",
    "        \n",
    "        knn=KNeighborsClassifier(n_neighbors=10,weights='distance',metric='euclidean')\n",
    "        knn.fit(X_train,y_train)\n",
    "        pred=knn.predict(X_test)\n",
    "\n",
    "        #collecting accuracy\n",
    "        acc=accuracy_score(y_test,pred)\n",
    "        accuracy_knn.append(acc)\n",
    "\n",
    "        #collecting recall\n",
    "        recall=recall_score(y_test,pred,average='macro')\n",
    "        scores_knn.append(recall)\n",
    "            \n",
    "print(f\"Cluster 1---Recall : {scores_knn[0]}  Accuracy : {accuracy_knn[0]}\")\n",
    "print(f\"Cluster 2---Recall : {scores_knn[1]}  Accuracy : {accuracy_knn[1]}\")\n",
    "print(f\"Cluster 3---Recall : {scores_knn[2]}  Accuracy : {accuracy_knn[2]}\")\n",
    "print(f\"Cluster 4---Recall : {scores_knn[3]}  Accuracy : {accuracy_knn[3]}\")"
   ]
  },
  {
   "cell_type": "code",
   "execution_count": 688,
   "metadata": {},
   "outputs": [
    {
     "name": "stdout",
     "output_type": "stream",
     "text": [
      "Cluster 1---Recall : 0.863833520283205  Accuracy : 0.8763388510223953\n",
      "Cluster 2---Recall : 0.8069044250872075  Accuracy : 0.8350803633822502\n",
      "Cluster 3---Recall : 0.8205128205128206  Accuracy : 0.8426966292134831\n",
      "Cluster 4---Recall : 0.7995451591942819  Accuracy : 0.8214285714285714\n"
     ]
    }
   ],
   "source": [
    "# Trying SVM Classifier\n",
    "\n",
    "from sklearn.svm import SVC,LinearSVC\n",
    "\n",
    "\n",
    "scores_svc=[]\n",
    "accuracy_svc=[]\n",
    "\n",
    "scaler=StandardScaler()\n",
    "\n",
    "for i in [data_c1,data_c2,data_c3,data_c4]:\n",
    "        X=i.drop(['Class'],axis=1)\n",
    "        X=scaler.fit_transform(X)\n",
    "        y=i.Class\n",
    "        X_train,X_test,y_train,y_test=train_test_split(X,np.ravel(y),test_size=0.3,random_state=2)\n",
    "        \n",
    "        svc=SVC(C=1, kernel=\"poly\", degree=4)\n",
    "\n",
    "        svc.fit(X_train,y_train)\n",
    "        pred=svc.predict(X_test)\n",
    "\n",
    "        #collecting accuracy\n",
    "        acc=accuracy_score(y_test,pred)\n",
    "        accuracy_svc.append(acc)\n",
    "\n",
    "        #collecting recall\n",
    "        recall=recall_score(y_test,pred,average='macro')\n",
    "        scores_svc.append(recall)\n",
    "            \n",
    "print(f\"Cluster 1---Recall : {scores_svc[0]}  Accuracy : {accuracy_svc[0]}\")\n",
    "print(f\"Cluster 2---Recall : {scores_svc[1]}  Accuracy : {accuracy_svc[1]}\")\n",
    "print(f\"Cluster 3---Recall : {scores_svc[2]}  Accuracy : {accuracy_svc[2]}\")\n",
    "print(f\"Cluster 4---Recall : {scores_svc[3]}  Accuracy : {accuracy_svc[3]}\")\n",
    "\n"
   ]
  },
  {
   "cell_type": "code",
   "execution_count": 689,
   "metadata": {},
   "outputs": [
    {
     "name": "stdout",
     "output_type": "stream",
     "text": [
      "Cluster 1---Recall : 0.8809892700044925  Accuracy : 0.8851022395326192\n",
      "Cluster 2---Recall : 0.7825055038371641  Accuracy : 0.7858141160027953\n",
      "Cluster 3---Recall : 0.9663865546218487  Accuracy : 0.9325842696629213\n",
      "Cluster 4---Recall : 0.910227696901829  Accuracy : 0.9017857142857143\n"
     ]
    }
   ],
   "source": [
    "# Trying Naive Bayes\n",
    "\n",
    "from sklearn.naive_bayes import MultinomialNB\n",
    "\n",
    "scores_nb=[]\n",
    "accuracy_nb=[]\n",
    "\n",
    "for i in [data_c1,data_c2,data_c3,data_c4]:\n",
    "        X=i.drop(['Class'],axis=1)\n",
    "        y=i.Class\n",
    "        X_train,X_test,y_train,y_test=train_test_split(X,np.ravel(y),test_size=0.3,random_state=2)\n",
    "        \n",
    "        nb=MultinomialNB()\n",
    "        nb.fit(X_train,y_train)\n",
    "        pred=nb.predict(X_test)\n",
    "\n",
    "        #collecting accuracy\n",
    "        acc=accuracy_score(y_test,pred)\n",
    "        accuracy_nb.append(acc)\n",
    "\n",
    "        #collecting recall\n",
    "        recall=recall_score(y_test,pred,average='macro')\n",
    "        scores_nb.append(recall)\n",
    "            \n",
    "print(f\"Cluster 1---Recall : {scores_nb[0]}  Accuracy : {accuracy_nb[0]}\")\n",
    "print(f\"Cluster 2---Recall : {scores_nb[1]}  Accuracy : {accuracy_nb[1]}\")\n",
    "print(f\"Cluster 3---Recall : {scores_nb[2]}  Accuracy : {accuracy_nb[2]}\")\n",
    "print(f\"Cluster 4---Recall : {scores_nb[3]}  Accuracy : {accuracy_nb[3]}\")"
   ]
  },
  {
   "cell_type": "code",
   "execution_count": 690,
   "metadata": {},
   "outputs": [
    {
     "name": "stdout",
     "output_type": "stream",
     "text": [
      "Cluster 1---Recall : 0.9937578027465669  Accuracy : 0.9951314508276533\n",
      "Cluster 2---Recall : 0.9921752790248459  Accuracy : 0.9930118798043326\n",
      "Cluster 3---Recall : 0.9915966386554622  Accuracy : 0.9831460674157303\n",
      "Cluster 4---Recall : 0.9912280701754387  Accuracy : 0.9910714285714286\n"
     ]
    }
   ],
   "source": [
    "#Trying Random Forest\n",
    "\n",
    "from sklearn.ensemble import RandomForestClassifier\n",
    "\n",
    "scores_rf=[]\n",
    "accuracy_rf=[]\n",
    "\n",
    "for i in [data_c1,data_c2,data_c3,data_c4]:\n",
    "        X=i.drop(['Class'],axis=1)\n",
    "        y=i.Class\n",
    "        X_train,X_test,y_train,y_test=train_test_split(X,np.ravel(y),test_size=0.3,random_state=2)\n",
    "        \n",
    "        rf=RandomForestClassifier()\n",
    "        rf.fit(X_train,y_train)\n",
    "        pred=rf.predict(X_test)\n",
    "\n",
    "        #collecting accuracy\n",
    "        acc=accuracy_score(y_test,pred)\n",
    "        accuracy_rf.append(acc)\n",
    "\n",
    "        #collecting recall\n",
    "        recall=recall_score(y_test,pred,average='macro')\n",
    "        scores_rf.append(recall)\n",
    "            \n",
    "print(f\"Cluster 1---Recall : {scores_rf[0]}  Accuracy : {accuracy_rf[0]}\")\n",
    "print(f\"Cluster 2---Recall : {scores_rf[1]}  Accuracy : {accuracy_rf[1]}\")\n",
    "print(f\"Cluster 3---Recall : {scores_rf[2]}  Accuracy : {accuracy_rf[2]}\")\n",
    "print(f\"Cluster 4---Recall : {scores_rf[3]}  Accuracy : {accuracy_rf[3]}\")"
   ]
  },
  {
   "cell_type": "code",
   "execution_count": 691,
   "metadata": {},
   "outputs": [
    {
     "name": "stdout",
     "output_type": "stream",
     "text": [
      "Cluster 1---Recall : 0.9925093632958801  Accuracy : 0.994157740993184\n",
      "Cluster 2---Recall : 0.9928995705794975  Accuracy : 0.9937106918238994\n",
      "Cluster 3---Recall : 0.9915966386554622  Accuracy : 0.9831460674157303\n",
      "Cluster 4---Recall : 0.9824561403508771  Accuracy : 0.9821428571428571\n"
     ]
    }
   ],
   "source": [
    "#Trying XGB Classsifier\n",
    "\n",
    "from xgboost import XGBClassifier\n",
    "\n",
    "scores_xgb=[]\n",
    "accuracy_xgb=[]\n",
    "\n",
    "for i in [data_c1,data_c2,data_c3,data_c4]:\n",
    "        X=i.drop(['Class'],axis=1)\n",
    "        y=i.Class\n",
    "        X_train,X_test,y_train,y_test=train_test_split(X,np.ravel(y),test_size=0.3,random_state=2)\n",
    "        \n",
    "        xgb=XGBClassifier(use_label_encoder=False ,eval_metric='error')\n",
    "        xgb.fit(X_train,y_train)\n",
    "        pred=xgb.predict(X_test)\n",
    "\n",
    "        #collecting accuracy\n",
    "        acc=accuracy_score(y_test,pred)\n",
    "        accuracy_xgb.append(acc)\n",
    "\n",
    "        #collecting recall\n",
    "        recall=recall_score(y_test,pred,average='macro')\n",
    "        scores_xgb.append(recall)\n",
    "            \n",
    "print(f\"Cluster 1---Recall : {scores_xgb[0]}  Accuracy : {accuracy_xgb[0]}\")\n",
    "print(f\"Cluster 2---Recall : {scores_xgb[1]}  Accuracy : {accuracy_xgb[1]}\")\n",
    "print(f\"Cluster 3---Recall : {scores_xgb[2]}  Accuracy : {accuracy_xgb[2]}\")\n",
    "print(f\"Cluster 4---Recall : {scores_xgb[3]}  Accuracy : {accuracy_xgb[3]}\")\n"
   ]
  },
  {
   "cell_type": "code",
   "execution_count": 692,
   "metadata": {},
   "outputs": [
    {
     "data": {
      "text/html": [
       "<div>\n",
       "<style scoped>\n",
       "    .dataframe tbody tr th:only-of-type {\n",
       "        vertical-align: middle;\n",
       "    }\n",
       "\n",
       "    .dataframe tbody tr th {\n",
       "        vertical-align: top;\n",
       "    }\n",
       "\n",
       "    .dataframe thead th {\n",
       "        text-align: right;\n",
       "    }\n",
       "</style>\n",
       "<table border=\"1\" class=\"dataframe\">\n",
       "  <thead>\n",
       "    <tr style=\"text-align: right;\">\n",
       "      <th></th>\n",
       "      <th>Cluster 1</th>\n",
       "      <th>Cluster 2</th>\n",
       "      <th>Cluster 3</th>\n",
       "      <th>Cluster 4</th>\n",
       "    </tr>\n",
       "  </thead>\n",
       "  <tbody>\n",
       "    <tr>\n",
       "      <th>Logreg_recall</th>\n",
       "      <td>0.958033</td>\n",
       "      <td>0.982195</td>\n",
       "      <td>0.994398</td>\n",
       "      <td>0.991228</td>\n",
       "    </tr>\n",
       "    <tr>\n",
       "      <th>knn_recall</th>\n",
       "      <td>0.971463</td>\n",
       "      <td>0.974919</td>\n",
       "      <td>0.988796</td>\n",
       "      <td>0.991228</td>\n",
       "    </tr>\n",
       "    <tr>\n",
       "      <th>svc_recall</th>\n",
       "      <td>0.863834</td>\n",
       "      <td>0.806904</td>\n",
       "      <td>0.820513</td>\n",
       "      <td>0.799545</td>\n",
       "    </tr>\n",
       "    <tr>\n",
       "      <th>nb_recall</th>\n",
       "      <td>0.880989</td>\n",
       "      <td>0.782506</td>\n",
       "      <td>0.966387</td>\n",
       "      <td>0.910228</td>\n",
       "    </tr>\n",
       "    <tr>\n",
       "      <th>rf_recall</th>\n",
       "      <td>0.993758</td>\n",
       "      <td>0.992175</td>\n",
       "      <td>0.991597</td>\n",
       "      <td>0.991228</td>\n",
       "    </tr>\n",
       "    <tr>\n",
       "      <th>xgb_recall</th>\n",
       "      <td>0.992509</td>\n",
       "      <td>0.992900</td>\n",
       "      <td>0.991597</td>\n",
       "      <td>0.982456</td>\n",
       "    </tr>\n",
       "  </tbody>\n",
       "</table>\n",
       "</div>"
      ],
      "text/plain": [
       "               Cluster 1  Cluster 2  Cluster 3  Cluster 4\n",
       "Logreg_recall   0.958033   0.982195   0.994398   0.991228\n",
       "knn_recall      0.971463   0.974919   0.988796   0.991228\n",
       "svc_recall      0.863834   0.806904   0.820513   0.799545\n",
       "nb_recall       0.880989   0.782506   0.966387   0.910228\n",
       "rf_recall       0.993758   0.992175   0.991597   0.991228\n",
       "xgb_recall      0.992509   0.992900   0.991597   0.982456"
      ]
     },
     "execution_count": 692,
     "metadata": {},
     "output_type": "execute_result"
    }
   ],
   "source": [
    "# Comparing Recall Values\n",
    "\n",
    "recall_vals=pd.DataFrame(data=[scores_logreg,scores_knn,scores_svc,\n",
    "                        scores_nb,scores_rf,scores_xgb],\n",
    "                        index=['Logreg_recall','knn_recall','svc_recall',\n",
    "                        'nb_recall','rf_recall','xgb_recall'],\n",
    "                        columns=['Cluster 1','Cluster 2','Cluster 3','Cluster 4'])\n",
    "\n",
    "recall_vals"
   ]
  },
  {
   "cell_type": "code",
   "execution_count": 693,
   "metadata": {},
   "outputs": [
    {
     "data": {
      "text/html": [
       "<div>\n",
       "<style scoped>\n",
       "    .dataframe tbody tr th:only-of-type {\n",
       "        vertical-align: middle;\n",
       "    }\n",
       "\n",
       "    .dataframe tbody tr th {\n",
       "        vertical-align: top;\n",
       "    }\n",
       "\n",
       "    .dataframe thead th {\n",
       "        text-align: right;\n",
       "    }\n",
       "</style>\n",
       "<table border=\"1\" class=\"dataframe\">\n",
       "  <thead>\n",
       "    <tr style=\"text-align: right;\">\n",
       "      <th></th>\n",
       "      <th>Cluster 1</th>\n",
       "      <th>Cluster 2</th>\n",
       "      <th>Cluster 3</th>\n",
       "      <th>Cluster 4</th>\n",
       "    </tr>\n",
       "  </thead>\n",
       "  <tbody>\n",
       "    <tr>\n",
       "      <th>Logreg_accuracy</th>\n",
       "      <td>0.962025</td>\n",
       "      <td>0.984277</td>\n",
       "      <td>0.988764</td>\n",
       "      <td>0.991071</td>\n",
       "    </tr>\n",
       "    <tr>\n",
       "      <th>knn_accuracy</th>\n",
       "      <td>0.977605</td>\n",
       "      <td>0.977987</td>\n",
       "      <td>0.977528</td>\n",
       "      <td>0.991071</td>\n",
       "    </tr>\n",
       "    <tr>\n",
       "      <th>svc_accuracy</th>\n",
       "      <td>0.876339</td>\n",
       "      <td>0.835080</td>\n",
       "      <td>0.842697</td>\n",
       "      <td>0.821429</td>\n",
       "    </tr>\n",
       "    <tr>\n",
       "      <th>nb_accuracy</th>\n",
       "      <td>0.885102</td>\n",
       "      <td>0.785814</td>\n",
       "      <td>0.932584</td>\n",
       "      <td>0.901786</td>\n",
       "    </tr>\n",
       "    <tr>\n",
       "      <th>rf_accuracy</th>\n",
       "      <td>0.995131</td>\n",
       "      <td>0.993012</td>\n",
       "      <td>0.983146</td>\n",
       "      <td>0.991071</td>\n",
       "    </tr>\n",
       "    <tr>\n",
       "      <th>xgb_accuracy</th>\n",
       "      <td>0.994158</td>\n",
       "      <td>0.993711</td>\n",
       "      <td>0.983146</td>\n",
       "      <td>0.982143</td>\n",
       "    </tr>\n",
       "  </tbody>\n",
       "</table>\n",
       "</div>"
      ],
      "text/plain": [
       "                 Cluster 1  Cluster 2  Cluster 3  Cluster 4\n",
       "Logreg_accuracy   0.962025   0.984277   0.988764   0.991071\n",
       "knn_accuracy      0.977605   0.977987   0.977528   0.991071\n",
       "svc_accuracy      0.876339   0.835080   0.842697   0.821429\n",
       "nb_accuracy       0.885102   0.785814   0.932584   0.901786\n",
       "rf_accuracy       0.995131   0.993012   0.983146   0.991071\n",
       "xgb_accuracy      0.994158   0.993711   0.983146   0.982143"
      ]
     },
     "execution_count": 693,
     "metadata": {},
     "output_type": "execute_result"
    }
   ],
   "source": [
    "# Comparing Accuracy Values\n",
    "\n",
    "accuracy_vals=pd.DataFrame(data=[accuracy_logreg,accuracy_knn,accuracy_svc,\n",
    "                        accuracy_nb,accuracy_rf,accuracy_xgb],\n",
    "                        index=['Logreg_accuracy','knn_accuracy','svc_accuracy',\n",
    "                        'nb_accuracy','rf_accuracy','xgb_accuracy'],\n",
    "                        columns=['Cluster 1','Cluster 2','Cluster 3','Cluster 4'])\n",
    "\n",
    "accuracy_vals"
   ]
  },
  {
   "cell_type": "code",
   "execution_count": 694,
   "metadata": {},
   "outputs": [
    {
     "name": "stdout",
     "output_type": "stream",
     "text": [
      "Best Model for Cluster 1 : rf_recall \n",
      "Best Model for Cluster 2 : xgb_recall \n",
      "Best Model for Cluster 3 : Logreg_recall \n",
      "Best Model for Cluster 4 : Logreg_recall \n"
     ]
    }
   ],
   "source": [
    "for i in recall_vals.columns:\n",
    "    print(f\"Best Model for {i} : {recall_vals[i].idxmax()} \")"
   ]
  },
  {
   "cell_type": "code",
   "execution_count": 695,
   "metadata": {},
   "outputs": [
    {
     "name": "stdout",
     "output_type": "stream",
     "text": [
      "Best Model for Cluster 1 : rf_accuracy \n",
      "Best Model for Cluster 2 : xgb_accuracy \n",
      "Best Model for Cluster 3 : Logreg_accuracy \n",
      "Best Model for Cluster 4 : Logreg_accuracy \n"
     ]
    }
   ],
   "source": [
    "for i in accuracy_vals.columns:\n",
    "    print(f\"Best Model for {i} : {accuracy_vals[i].idxmax()} \")"
   ]
  },
  {
   "cell_type": "code",
   "execution_count": 696,
   "metadata": {},
   "outputs": [],
   "source": [
    "# From above observations, we can conclude that \n",
    "# random forest is best model for data belonging to Cluster 1\n",
    "# XGB is best model for data belonging to Cluster 2 \n",
    "# Logistic Regression is best model for data belonging to Cluster 3 and 4"
   ]
  },
  {
   "cell_type": "code",
   "execution_count": 697,
   "metadata": {},
   "outputs": [],
   "source": [
    "# Model for Cluster 2\n",
    "\n",
    "X=data_c2.drop(['Class'],axis=1)\n",
    "y=data_c2.Class\n",
    "X_train,X_test,y_train,y_test=train_test_split(X,np.ravel(y),test_size=0.3,random_state=2)\n",
    "xgb_c2=XGBClassifier(use_label_encoder=False ,eval_metric='error')\n",
    "xgb_c2.fit(X_train,y_train)\n",
    "\n",
    "import pickle\n",
    "filename_c2=\"xgb_c2.pickle\"\n",
    "pickle.dump(xgb_c2,open(filename_c2,'wb'))"
   ]
  },
  {
   "cell_type": "code",
   "execution_count": 698,
   "metadata": {},
   "outputs": [],
   "source": [
    "# Model for Cluster 1\n",
    "\n",
    "X=data_c1.drop(['Class'],axis=1)\n",
    "y=data_c1.Class\n",
    "X_train,X_test,y_train,y_test=train_test_split(X,np.ravel(y),test_size=0.3,random_state=2)\n",
    "rf_c1=RandomForestClassifier()\n",
    "rf_c1.fit(X_train,y_train)\n",
    "\n",
    "import pickle\n",
    "filename_c1=\"rf_c1.pickle\"\n",
    "pickle.dump(rf_c1,open(filename_c1,'wb'))"
   ]
  },
  {
   "cell_type": "code",
   "execution_count": 699,
   "metadata": {},
   "outputs": [],
   "source": [
    "# Model for Cluster 3\n",
    "\n",
    "scaler_c3=StandardScaler()\n",
    "\n",
    "X=data_c3.drop(['Class'],axis=1)\n",
    "X=scaler_c3.fit_transform(X)\n",
    "y=data_c3.Class\n",
    "X_train,X_test,y_train,y_test=train_test_split(X,np.ravel(y),test_size=0.3,random_state=2)\n",
    "logreg_c3=LogisticRegression(max_iter=1000,solver='newton-cg')\n",
    "logreg_c3.fit(X_train,y_train)\n",
    "\n",
    "import pickle\n",
    "filename_c3=\"logreg_c3.pickle\"\n",
    "pickle.dump(logreg_c3,open(filename_c3,'wb'))\n",
    "\n",
    "filename_scaler=\"scaler_c3.pickle\"\n",
    "pickle.dump(scaler_c3,open(filename_scaler,'wb'))"
   ]
  },
  {
   "cell_type": "code",
   "execution_count": 700,
   "metadata": {},
   "outputs": [],
   "source": [
    "# Model for Cluster 4\n",
    "\n",
    "scaler_c4=StandardScaler()\n",
    "\n",
    "X=data_c4.drop(['Class'],axis=1)\n",
    "X=scaler_c4.fit_transform(X)\n",
    "y=data_c4.Class\n",
    "X_train,X_test,y_train,y_test=train_test_split(X,np.ravel(y),test_size=0.3,random_state=2)\n",
    "logreg_c4=LogisticRegression(max_iter=1000,solver='newton-cg')\n",
    "logreg_c4.fit(X_train,y_train)\n",
    "\n",
    "import pickle\n",
    "filename_c4=\"logreg_c4.pickle\"\n",
    "pickle.dump(logreg_c4,open(filename_c4,'wb'))\n",
    "\n",
    "filename_scaler=\"scaler_c4.pickle\"\n",
    "pickle.dump(scaler_c4,open(filename_scaler,'wb'))"
   ]
  },
  {
   "cell_type": "code",
   "execution_count": 701,
   "metadata": {},
   "outputs": [],
   "source": [
    "# Getting the cluster centroids of the 4 clusters\n",
    "\n",
    "c1_center=kmeans.cluster_centers_[0]\n",
    "c2_center=kmeans.cluster_centers_[1]\n",
    "c3_center=kmeans.cluster_centers_[2]\n",
    "c4_center=kmeans.cluster_centers_[3]"
   ]
  },
  {
   "cell_type": "code",
   "execution_count": 702,
   "metadata": {},
   "outputs": [],
   "source": [
    "test_data=np.array(data.drop(['Class','Cluster'],axis=1).loc[342])"
   ]
  },
  {
   "cell_type": "code",
   "execution_count": 703,
   "metadata": {},
   "outputs": [
    {
     "data": {
      "text/plain": [
       "array([5.99557244e+01, 2.07128250e-01, 9.31346772e-01, 9.96202162e-01,\n",
       "       1.00000000e+00, 9.18492550e-01, 1.00000000e+00, 9.88022203e-01,\n",
       "       1.00000000e+00, 8.14782355e-01, 9.40403155e-01, 9.99415717e-01,\n",
       "       9.97078586e-01, 9.52380952e-01, 9.99707859e-01, 9.84516506e-01,\n",
       "       4.89252061e+00, 1.75284838e-03, 1.21875028e+00, 1.40227870e-02,\n",
       "       7.02022438e+01, 1.16856559e-03, 9.41035565e-01, 8.44538779e+01,\n",
       "       4.14840783e-02, 1.03400000e+03])"
      ]
     },
     "execution_count": 703,
     "metadata": {},
     "output_type": "execute_result"
    }
   ],
   "source": [
    "c1_center"
   ]
  },
  {
   "cell_type": "code",
   "execution_count": 704,
   "metadata": {},
   "outputs": [
    {
     "data": {
      "text/plain": [
       "array([6.00000000e+01, 0.00000000e+00, 1.00000000e+00, 1.00000000e+00,\n",
       "       1.00000000e+00, 1.00000000e+00, 1.00000000e+00, 1.00000000e+00,\n",
       "       1.00000000e+00, 1.00000000e+00, 1.00000000e+00, 1.00000000e+00,\n",
       "       1.00000000e+00, 1.00000000e+00, 1.00000000e+00, 1.00000000e+00,\n",
       "       5.08676609e+00, 1.00000000e+00, 2.20000000e+00, 0.00000000e+00,\n",
       "       1.08319345e+02, 1.00000000e+00, 9.94999705e-01, 1.10469649e+02,\n",
       "       1.00000000e+00, 2.20100000e+03])"
      ]
     },
     "execution_count": 704,
     "metadata": {},
     "output_type": "execute_result"
    }
   ],
   "source": [
    "test_data"
   ]
  },
  {
   "cell_type": "code",
   "execution_count": 705,
   "metadata": {},
   "outputs": [
    {
     "data": {
      "text/plain": [
       "1167.913844028297"
      ]
     },
     "execution_count": 705,
     "metadata": {},
     "output_type": "execute_result"
    }
   ],
   "source": [
    "np.linalg.norm(-c1_center+test_data)"
   ]
  },
  {
   "cell_type": "code",
   "execution_count": 706,
   "metadata": {},
   "outputs": [],
   "source": [
    "# function to find closest cluster center , from test point\n",
    "\n",
    "def find_cluster(test_point):\n",
    "    distances=[]\n",
    "    for center in kmeans.cluster_centers_:\n",
    "        dist=np.linalg.norm(center-test_point)\n",
    "        distances.append(dist)\n",
    "        \n",
    "    dist_frame=pd.DataFrame(data=distances,columns=['Distances'])\n",
    "    cluster=dist_frame.Distances.idxmin()\n",
    "    print(f\"The point belongs to cluster {cluster}\")\n",
    "    \n",
    "    return cluster"
   ]
  },
  {
   "cell_type": "code",
   "execution_count": 707,
   "metadata": {},
   "outputs": [
    {
     "name": "stdout",
     "output_type": "stream",
     "text": [
      "The point belongs to cluster 1\n"
     ]
    },
    {
     "data": {
      "text/plain": [
       "1"
      ]
     },
     "execution_count": 707,
     "metadata": {},
     "output_type": "execute_result"
    }
   ],
   "source": [
    "find_cluster(test_data)"
   ]
  },
  {
   "cell_type": "code",
   "execution_count": 708,
   "metadata": {},
   "outputs": [],
   "source": [
    "# Get model for particular cluster\n",
    "\n",
    "def find_model(cluster):\n",
    "    models=[rf_c1,xgb_c2,logreg_c3,logreg_c4]\n",
    "    if cluster==0:\n",
    "        return rf_c1\n",
    "    if cluster==1:\n",
    "        return xgb_c2\n",
    "    if cluster==2:\n",
    "        return logreg_c3\n",
    "    if cluster==3:\n",
    "        return logreg_c4"
   ]
  },
  {
   "cell_type": "code",
   "execution_count": 714,
   "metadata": {},
   "outputs": [
    {
     "data": {
      "text/plain": [
       "1"
      ]
     },
     "execution_count": 714,
     "metadata": {},
     "output_type": "execute_result"
    }
   ],
   "source": [
    "model=find_model(1)\n",
    "model.predict(pd.DataFrame(test_data).T)[0]"
   ]
  },
  {
   "cell_type": "code",
   "execution_count": 716,
   "metadata": {},
   "outputs": [
    {
     "data": {
      "text/plain": [
       "age                            60.000000\n",
       "sex                             0.000000\n",
       "on_thyroxine                    1.000000\n",
       "query_on_thyroxine              1.000000\n",
       "on_antithyroid_medication       1.000000\n",
       "                                ...     \n",
       "FTI                           110.469649\n",
       "FTI_nan                         1.000000\n",
       "referral_source              2201.000000\n",
       "Class                           1.000000\n",
       "Cluster                         1.000000\n",
       "Name: 342, Length: 28, dtype: float64"
      ]
     },
     "execution_count": 716,
     "metadata": {},
     "output_type": "execute_result"
    }
   ],
   "source": [
    "data.loc[342]"
   ]
  },
  {
   "cell_type": "code",
   "execution_count": null,
   "metadata": {},
   "outputs": [],
   "source": []
  }
 ],
 "metadata": {
  "kernelspec": {
   "display_name": "Python 3",
   "language": "python",
   "name": "python3"
  },
  "language_info": {
   "codemirror_mode": {
    "name": "ipython",
    "version": 3
   },
   "file_extension": ".py",
   "mimetype": "text/x-python",
   "name": "python",
   "nbconvert_exporter": "python",
   "pygments_lexer": "ipython3",
   "version": "3.8.3"
  }
 },
 "nbformat": 4,
 "nbformat_minor": 2
}
